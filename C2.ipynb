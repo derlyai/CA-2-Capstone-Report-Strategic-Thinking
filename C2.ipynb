{
 "cells": [
  {
   "cell_type": "markdown",
   "id": "1d0135e9",
   "metadata": {},
   "source": [
    "*Student Full Name: Derly Milded Montealegre Gonzalez \n",
    "*Student Number: 2024151 \n",
    "*Module Title: Strategic Thinking\n",
    "*Assessment Title: CA 2 Capstone Report\n",
    "*Assessment Due Date: 16 April 2024 \n",
    "*Date of Submission: 19 May 2024"
   ]
  },
  {
   "cell_type": "markdown",
   "id": "389f327e",
   "metadata": {},
   "source": [
    "# Load Libraries"
   ]
  },
  {
   "cell_type": "code",
   "execution_count": 1,
   "id": "177d0d35",
   "metadata": {},
   "outputs": [],
   "source": [
    "import pandas as pd\n",
    "import matplotlib.pyplot as plt\n",
    "import sklearn.preprocessing as preproc\n",
    "import seaborn as sns\n",
    "import warnings\n",
    "warnings.filterwarnings(\"ignore\", message=\"The least populated class in y has only 1 members\")"
   ]
  },
  {
   "cell_type": "markdown",
   "id": "b85ddd8c",
   "metadata": {},
   "source": [
    "# Reading the Data"
   ]
  },
  {
   "cell_type": "markdown",
   "id": "a7f5bad7",
   "metadata": {},
   "source": [
    "Due to the fact that the original csv file had some chinese characters we use latin1 file encoding rather than the default type"
   ]
  },
  {
   "cell_type": "code",
   "execution_count": 2,
   "id": "9337b51e",
   "metadata": {},
   "outputs": [
    {
     "name": "stderr",
     "output_type": "stream",
     "text": [
      "C:\\Users\\monte\\AppData\\Local\\Temp\\ipykernel_26096\\1111279284.py:1: DtypeWarning: Columns (1,11,12,14) have mixed types. Specify dtype option on import or set low_memory=False.\n",
      "  data = pd.read_csv(\"housing.csv\", encoding=\"latin1\")\n"
     ]
    }
   ],
   "source": [
    "data = pd.read_csv(\"housing.csv\", encoding=\"latin1\")\n",
    "data = data.sample(frac=0.2)"
   ]
  },
  {
   "cell_type": "code",
   "execution_count": 3,
   "id": "41673301",
   "metadata": {},
   "outputs": [
    {
     "data": {
      "text/html": [
       "<div>\n",
       "<style scoped>\n",
       "    .dataframe tbody tr th:only-of-type {\n",
       "        vertical-align: middle;\n",
       "    }\n",
       "\n",
       "    .dataframe tbody tr th {\n",
       "        vertical-align: top;\n",
       "    }\n",
       "\n",
       "    .dataframe thead th {\n",
       "        text-align: right;\n",
       "    }\n",
       "</style>\n",
       "<table border=\"1\" class=\"dataframe\">\n",
       "  <thead>\n",
       "    <tr style=\"text-align: right;\">\n",
       "      <th></th>\n",
       "      <th>url</th>\n",
       "      <th>id</th>\n",
       "      <th>Lng</th>\n",
       "      <th>Lat</th>\n",
       "      <th>Cid</th>\n",
       "      <th>tradeTime</th>\n",
       "      <th>DOM</th>\n",
       "      <th>followers</th>\n",
       "      <th>totalPrice</th>\n",
       "      <th>price</th>\n",
       "      <th>...</th>\n",
       "      <th>buildingType</th>\n",
       "      <th>constructionTime</th>\n",
       "      <th>renovationCondition</th>\n",
       "      <th>buildingStructure</th>\n",
       "      <th>ladderRatio</th>\n",
       "      <th>elevator</th>\n",
       "      <th>fiveYearsProperty</th>\n",
       "      <th>subway</th>\n",
       "      <th>district</th>\n",
       "      <th>communityAverage</th>\n",
       "    </tr>\n",
       "  </thead>\n",
       "  <tbody>\n",
       "    <tr>\n",
       "      <th>180118</th>\n",
       "      <td>https://bj.lianjia.com/chengjiao/BJCY90787261....</td>\n",
       "      <td>BJCY90787261</td>\n",
       "      <td>116.407373</td>\n",
       "      <td>40.011061</td>\n",
       "      <td>1111027375537</td>\n",
       "      <td>2015-11-21</td>\n",
       "      <td>1.0</td>\n",
       "      <td>13</td>\n",
       "      <td>312.0</td>\n",
       "      <td>37650</td>\n",
       "      <td>...</td>\n",
       "      <td>1.0</td>\n",
       "      <td>2000</td>\n",
       "      <td>4</td>\n",
       "      <td>6</td>\n",
       "      <td>0.267</td>\n",
       "      <td>1.0</td>\n",
       "      <td>1.0</td>\n",
       "      <td>1.0</td>\n",
       "      <td>7</td>\n",
       "      <td>62293.0</td>\n",
       "    </tr>\n",
       "    <tr>\n",
       "      <th>140266</th>\n",
       "      <td>https://bj.lianjia.com/chengjiao/BJCY85777975....</td>\n",
       "      <td>BJCY85777975</td>\n",
       "      <td>116.513063</td>\n",
       "      <td>39.937121</td>\n",
       "      <td>1111027381238</td>\n",
       "      <td>2013-05-25</td>\n",
       "      <td>NaN</td>\n",
       "      <td>0</td>\n",
       "      <td>357.5</td>\n",
       "      <td>39119</td>\n",
       "      <td>...</td>\n",
       "      <td>4.0</td>\n",
       "      <td>2006</td>\n",
       "      <td>1</td>\n",
       "      <td>6</td>\n",
       "      <td>0.333</td>\n",
       "      <td>1.0</td>\n",
       "      <td>1.0</td>\n",
       "      <td>0.0</td>\n",
       "      <td>7</td>\n",
       "      <td>62851.0</td>\n",
       "    </tr>\n",
       "    <tr>\n",
       "      <th>70764</th>\n",
       "      <td>https://bj.lianjia.com/chengjiao/101101344525....</td>\n",
       "      <td>101101344525</td>\n",
       "      <td>116.330146</td>\n",
       "      <td>40.039456</td>\n",
       "      <td>1111027377530</td>\n",
       "      <td>2017-04-25</td>\n",
       "      <td>40.0</td>\n",
       "      <td>51</td>\n",
       "      <td>563.0</td>\n",
       "      <td>68467</td>\n",
       "      <td>...</td>\n",
       "      <td>4.0</td>\n",
       "      <td>2009</td>\n",
       "      <td>4</td>\n",
       "      <td>6</td>\n",
       "      <td>0.333</td>\n",
       "      <td>1.0</td>\n",
       "      <td>0.0</td>\n",
       "      <td>1.0</td>\n",
       "      <td>8</td>\n",
       "      <td>65533.0</td>\n",
       "    </tr>\n",
       "    <tr>\n",
       "      <th>263199</th>\n",
       "      <td>https://bj.lianjia.com/chengjiao/BJHD90715672....</td>\n",
       "      <td>BJHD90715672</td>\n",
       "      <td>116.309462</td>\n",
       "      <td>39.941053</td>\n",
       "      <td>1111027379373</td>\n",
       "      <td>2015-11-12</td>\n",
       "      <td>NaN</td>\n",
       "      <td>1</td>\n",
       "      <td>1150.0</td>\n",
       "      <td>57446</td>\n",
       "      <td>...</td>\n",
       "      <td>4.0</td>\n",
       "      <td>2003</td>\n",
       "      <td>4</td>\n",
       "      <td>6</td>\n",
       "      <td>0.200</td>\n",
       "      <td>1.0</td>\n",
       "      <td>1.0</td>\n",
       "      <td>0.0</td>\n",
       "      <td>8</td>\n",
       "      <td>96125.0</td>\n",
       "    </tr>\n",
       "    <tr>\n",
       "      <th>34598</th>\n",
       "      <td>https://bj.lianjia.com/chengjiao/101100543180....</td>\n",
       "      <td>101100543180</td>\n",
       "      <td>116.600168</td>\n",
       "      <td>39.937451</td>\n",
       "      <td>1111027380517</td>\n",
       "      <td>2016-10-05</td>\n",
       "      <td>30.0</td>\n",
       "      <td>18</td>\n",
       "      <td>880.0</td>\n",
       "      <td>51462</td>\n",
       "      <td>...</td>\n",
       "      <td>1.0</td>\n",
       "      <td>2009</td>\n",
       "      <td>4</td>\n",
       "      <td>6</td>\n",
       "      <td>1.000</td>\n",
       "      <td>1.0</td>\n",
       "      <td>0.0</td>\n",
       "      <td>0.0</td>\n",
       "      <td>7</td>\n",
       "      <td>51255.0</td>\n",
       "    </tr>\n",
       "  </tbody>\n",
       "</table>\n",
       "<p>5 rows × 26 columns</p>\n",
       "</div>"
      ],
      "text/plain": [
       "                                                      url            id  \\\n",
       "180118  https://bj.lianjia.com/chengjiao/BJCY90787261....  BJCY90787261   \n",
       "140266  https://bj.lianjia.com/chengjiao/BJCY85777975....  BJCY85777975   \n",
       "70764   https://bj.lianjia.com/chengjiao/101101344525....  101101344525   \n",
       "263199  https://bj.lianjia.com/chengjiao/BJHD90715672....  BJHD90715672   \n",
       "34598   https://bj.lianjia.com/chengjiao/101100543180....  101100543180   \n",
       "\n",
       "               Lng        Lat            Cid   tradeTime   DOM  followers  \\\n",
       "180118  116.407373  40.011061  1111027375537  2015-11-21   1.0         13   \n",
       "140266  116.513063  39.937121  1111027381238  2013-05-25   NaN          0   \n",
       "70764   116.330146  40.039456  1111027377530  2017-04-25  40.0         51   \n",
       "263199  116.309462  39.941053  1111027379373  2015-11-12   NaN          1   \n",
       "34598   116.600168  39.937451  1111027380517  2016-10-05  30.0         18   \n",
       "\n",
       "        totalPrice  price  ...  buildingType constructionTime  \\\n",
       "180118       312.0  37650  ...           1.0             2000   \n",
       "140266       357.5  39119  ...           4.0             2006   \n",
       "70764        563.0  68467  ...           4.0             2009   \n",
       "263199      1150.0  57446  ...           4.0             2003   \n",
       "34598        880.0  51462  ...           1.0             2009   \n",
       "\n",
       "       renovationCondition  buildingStructure ladderRatio elevator  \\\n",
       "180118                   4                  6       0.267      1.0   \n",
       "140266                   1                  6       0.333      1.0   \n",
       "70764                    4                  6       0.333      1.0   \n",
       "263199                   4                  6       0.200      1.0   \n",
       "34598                    4                  6       1.000      1.0   \n",
       "\n",
       "        fiveYearsProperty subway  district  communityAverage  \n",
       "180118                1.0    1.0         7           62293.0  \n",
       "140266                1.0    0.0         7           62851.0  \n",
       "70764                 0.0    1.0         8           65533.0  \n",
       "263199                1.0    0.0         8           96125.0  \n",
       "34598                 0.0    0.0         7           51255.0  \n",
       "\n",
       "[5 rows x 26 columns]"
      ]
     },
     "execution_count": 3,
     "metadata": {},
     "output_type": "execute_result"
    }
   ],
   "source": [
    "data.head()"
   ]
  },
  {
   "cell_type": "code",
   "execution_count": 4,
   "id": "8f40aba1",
   "metadata": {},
   "outputs": [
    {
     "name": "stdout",
     "output_type": "stream",
     "text": [
      "<class 'pandas.core.frame.DataFrame'>\n",
      "Index: 63770 entries, 180118 to 209645\n",
      "Data columns (total 26 columns):\n",
      " #   Column               Non-Null Count  Dtype  \n",
      "---  ------               --------------  -----  \n",
      " 0   url                  63770 non-null  object \n",
      " 1   id                   63770 non-null  object \n",
      " 2   Lng                  63770 non-null  float64\n",
      " 3   Lat                  63770 non-null  float64\n",
      " 4   Cid                  63770 non-null  int64  \n",
      " 5   tradeTime            63770 non-null  object \n",
      " 6   DOM                  32225 non-null  float64\n",
      " 7   followers            63770 non-null  int64  \n",
      " 8   totalPrice           63770 non-null  float64\n",
      " 9   price                63770 non-null  int64  \n",
      " 10  square               63770 non-null  float64\n",
      " 11  livingRoom           63770 non-null  object \n",
      " 12  drawingRoom          63770 non-null  object \n",
      " 13  kitchen              63770 non-null  int64  \n",
      " 14  bathRoom             63770 non-null  object \n",
      " 15  floor                63770 non-null  object \n",
      " 16  buildingType         63352 non-null  float64\n",
      " 17  constructionTime     63770 non-null  object \n",
      " 18  renovationCondition  63770 non-null  int64  \n",
      " 19  buildingStructure    63770 non-null  int64  \n",
      " 20  ladderRatio          63770 non-null  float64\n",
      " 21  elevator             63765 non-null  float64\n",
      " 22  fiveYearsProperty    63765 non-null  float64\n",
      " 23  subway               63765 non-null  float64\n",
      " 24  district             63770 non-null  int64  \n",
      " 25  communityAverage     63669 non-null  float64\n",
      "dtypes: float64(11), int64(7), object(8)\n",
      "memory usage: 13.1+ MB\n"
     ]
    }
   ],
   "source": [
    "data.info()"
   ]
  },
  {
   "cell_type": "code",
   "execution_count": 5,
   "id": "8ad13664",
   "metadata": {},
   "outputs": [],
   "source": [
    "extr = data[\"tradeTime\"].str.extract(r\"^(\\d{4})\", expand=False)"
   ]
  },
  {
   "cell_type": "code",
   "execution_count": 6,
   "id": "6c4f6059",
   "metadata": {},
   "outputs": [
    {
     "data": {
      "text/plain": [
       "180118    2015\n",
       "140266    2013\n",
       "70764     2017\n",
       "263199    2015\n",
       "34598     2016\n",
       "109676    2015\n",
       "276138    2016\n",
       "318048    2015\n",
       "253612    2015\n",
       "142171    2013\n",
       "Name: tradeTime, dtype: object"
      ]
     },
     "execution_count": 6,
     "metadata": {},
     "output_type": "execute_result"
    }
   ],
   "source": [
    "extr.head(10)"
   ]
  },
  {
   "cell_type": "code",
   "execution_count": 7,
   "id": "45abddde",
   "metadata": {},
   "outputs": [],
   "source": [
    "data[\"tradeTime\"]=pd.to_numeric(extr)"
   ]
  },
  {
   "cell_type": "code",
   "execution_count": 8,
   "id": "c5a46c37",
   "metadata": {},
   "outputs": [
    {
     "data": {
      "text/html": [
       "<div>\n",
       "<style scoped>\n",
       "    .dataframe tbody tr th:only-of-type {\n",
       "        vertical-align: middle;\n",
       "    }\n",
       "\n",
       "    .dataframe tbody tr th {\n",
       "        vertical-align: top;\n",
       "    }\n",
       "\n",
       "    .dataframe thead th {\n",
       "        text-align: right;\n",
       "    }\n",
       "</style>\n",
       "<table border=\"1\" class=\"dataframe\">\n",
       "  <thead>\n",
       "    <tr style=\"text-align: right;\">\n",
       "      <th></th>\n",
       "      <th>url</th>\n",
       "      <th>id</th>\n",
       "      <th>Lng</th>\n",
       "      <th>Lat</th>\n",
       "      <th>Cid</th>\n",
       "      <th>tradeTime</th>\n",
       "      <th>DOM</th>\n",
       "      <th>followers</th>\n",
       "      <th>totalPrice</th>\n",
       "      <th>price</th>\n",
       "      <th>...</th>\n",
       "      <th>buildingType</th>\n",
       "      <th>constructionTime</th>\n",
       "      <th>renovationCondition</th>\n",
       "      <th>buildingStructure</th>\n",
       "      <th>ladderRatio</th>\n",
       "      <th>elevator</th>\n",
       "      <th>fiveYearsProperty</th>\n",
       "      <th>subway</th>\n",
       "      <th>district</th>\n",
       "      <th>communityAverage</th>\n",
       "    </tr>\n",
       "  </thead>\n",
       "  <tbody>\n",
       "    <tr>\n",
       "      <th>180118</th>\n",
       "      <td>https://bj.lianjia.com/chengjiao/BJCY90787261....</td>\n",
       "      <td>BJCY90787261</td>\n",
       "      <td>116.407373</td>\n",
       "      <td>40.011061</td>\n",
       "      <td>1111027375537</td>\n",
       "      <td>2015</td>\n",
       "      <td>1.0</td>\n",
       "      <td>13</td>\n",
       "      <td>312.0</td>\n",
       "      <td>37650</td>\n",
       "      <td>...</td>\n",
       "      <td>1.0</td>\n",
       "      <td>2000</td>\n",
       "      <td>4</td>\n",
       "      <td>6</td>\n",
       "      <td>0.267</td>\n",
       "      <td>1.0</td>\n",
       "      <td>1.0</td>\n",
       "      <td>1.0</td>\n",
       "      <td>7</td>\n",
       "      <td>62293.0</td>\n",
       "    </tr>\n",
       "    <tr>\n",
       "      <th>140266</th>\n",
       "      <td>https://bj.lianjia.com/chengjiao/BJCY85777975....</td>\n",
       "      <td>BJCY85777975</td>\n",
       "      <td>116.513063</td>\n",
       "      <td>39.937121</td>\n",
       "      <td>1111027381238</td>\n",
       "      <td>2013</td>\n",
       "      <td>NaN</td>\n",
       "      <td>0</td>\n",
       "      <td>357.5</td>\n",
       "      <td>39119</td>\n",
       "      <td>...</td>\n",
       "      <td>4.0</td>\n",
       "      <td>2006</td>\n",
       "      <td>1</td>\n",
       "      <td>6</td>\n",
       "      <td>0.333</td>\n",
       "      <td>1.0</td>\n",
       "      <td>1.0</td>\n",
       "      <td>0.0</td>\n",
       "      <td>7</td>\n",
       "      <td>62851.0</td>\n",
       "    </tr>\n",
       "    <tr>\n",
       "      <th>70764</th>\n",
       "      <td>https://bj.lianjia.com/chengjiao/101101344525....</td>\n",
       "      <td>101101344525</td>\n",
       "      <td>116.330146</td>\n",
       "      <td>40.039456</td>\n",
       "      <td>1111027377530</td>\n",
       "      <td>2017</td>\n",
       "      <td>40.0</td>\n",
       "      <td>51</td>\n",
       "      <td>563.0</td>\n",
       "      <td>68467</td>\n",
       "      <td>...</td>\n",
       "      <td>4.0</td>\n",
       "      <td>2009</td>\n",
       "      <td>4</td>\n",
       "      <td>6</td>\n",
       "      <td>0.333</td>\n",
       "      <td>1.0</td>\n",
       "      <td>0.0</td>\n",
       "      <td>1.0</td>\n",
       "      <td>8</td>\n",
       "      <td>65533.0</td>\n",
       "    </tr>\n",
       "    <tr>\n",
       "      <th>263199</th>\n",
       "      <td>https://bj.lianjia.com/chengjiao/BJHD90715672....</td>\n",
       "      <td>BJHD90715672</td>\n",
       "      <td>116.309462</td>\n",
       "      <td>39.941053</td>\n",
       "      <td>1111027379373</td>\n",
       "      <td>2015</td>\n",
       "      <td>NaN</td>\n",
       "      <td>1</td>\n",
       "      <td>1150.0</td>\n",
       "      <td>57446</td>\n",
       "      <td>...</td>\n",
       "      <td>4.0</td>\n",
       "      <td>2003</td>\n",
       "      <td>4</td>\n",
       "      <td>6</td>\n",
       "      <td>0.200</td>\n",
       "      <td>1.0</td>\n",
       "      <td>1.0</td>\n",
       "      <td>0.0</td>\n",
       "      <td>8</td>\n",
       "      <td>96125.0</td>\n",
       "    </tr>\n",
       "    <tr>\n",
       "      <th>34598</th>\n",
       "      <td>https://bj.lianjia.com/chengjiao/101100543180....</td>\n",
       "      <td>101100543180</td>\n",
       "      <td>116.600168</td>\n",
       "      <td>39.937451</td>\n",
       "      <td>1111027380517</td>\n",
       "      <td>2016</td>\n",
       "      <td>30.0</td>\n",
       "      <td>18</td>\n",
       "      <td>880.0</td>\n",
       "      <td>51462</td>\n",
       "      <td>...</td>\n",
       "      <td>1.0</td>\n",
       "      <td>2009</td>\n",
       "      <td>4</td>\n",
       "      <td>6</td>\n",
       "      <td>1.000</td>\n",
       "      <td>1.0</td>\n",
       "      <td>0.0</td>\n",
       "      <td>0.0</td>\n",
       "      <td>7</td>\n",
       "      <td>51255.0</td>\n",
       "    </tr>\n",
       "  </tbody>\n",
       "</table>\n",
       "<p>5 rows × 26 columns</p>\n",
       "</div>"
      ],
      "text/plain": [
       "                                                      url            id  \\\n",
       "180118  https://bj.lianjia.com/chengjiao/BJCY90787261....  BJCY90787261   \n",
       "140266  https://bj.lianjia.com/chengjiao/BJCY85777975....  BJCY85777975   \n",
       "70764   https://bj.lianjia.com/chengjiao/101101344525....  101101344525   \n",
       "263199  https://bj.lianjia.com/chengjiao/BJHD90715672....  BJHD90715672   \n",
       "34598   https://bj.lianjia.com/chengjiao/101100543180....  101100543180   \n",
       "\n",
       "               Lng        Lat            Cid  tradeTime   DOM  followers  \\\n",
       "180118  116.407373  40.011061  1111027375537       2015   1.0         13   \n",
       "140266  116.513063  39.937121  1111027381238       2013   NaN          0   \n",
       "70764   116.330146  40.039456  1111027377530       2017  40.0         51   \n",
       "263199  116.309462  39.941053  1111027379373       2015   NaN          1   \n",
       "34598   116.600168  39.937451  1111027380517       2016  30.0         18   \n",
       "\n",
       "        totalPrice  price  ...  buildingType constructionTime  \\\n",
       "180118       312.0  37650  ...           1.0             2000   \n",
       "140266       357.5  39119  ...           4.0             2006   \n",
       "70764        563.0  68467  ...           4.0             2009   \n",
       "263199      1150.0  57446  ...           4.0             2003   \n",
       "34598        880.0  51462  ...           1.0             2009   \n",
       "\n",
       "       renovationCondition  buildingStructure ladderRatio elevator  \\\n",
       "180118                   4                  6       0.267      1.0   \n",
       "140266                   1                  6       0.333      1.0   \n",
       "70764                    4                  6       0.333      1.0   \n",
       "263199                   4                  6       0.200      1.0   \n",
       "34598                    4                  6       1.000      1.0   \n",
       "\n",
       "        fiveYearsProperty subway  district  communityAverage  \n",
       "180118                1.0    1.0         7           62293.0  \n",
       "140266                1.0    0.0         7           62851.0  \n",
       "70764                 0.0    1.0         8           65533.0  \n",
       "263199                1.0    0.0         8           96125.0  \n",
       "34598                 0.0    0.0         7           51255.0  \n",
       "\n",
       "[5 rows x 26 columns]"
      ]
     },
     "execution_count": 8,
     "metadata": {},
     "output_type": "execute_result"
    }
   ],
   "source": [
    "data.head()"
   ]
  },
  {
   "cell_type": "code",
   "execution_count": 9,
   "id": "57cb6014",
   "metadata": {},
   "outputs": [
    {
     "name": "stdout",
     "output_type": "stream",
     "text": [
      "<class 'pandas.core.frame.DataFrame'>\n",
      "Index: 63770 entries, 180118 to 209645\n",
      "Data columns (total 26 columns):\n",
      " #   Column               Non-Null Count  Dtype  \n",
      "---  ------               --------------  -----  \n",
      " 0   url                  63770 non-null  object \n",
      " 1   id                   63770 non-null  object \n",
      " 2   Lng                  63770 non-null  float64\n",
      " 3   Lat                  63770 non-null  float64\n",
      " 4   Cid                  63770 non-null  int64  \n",
      " 5   tradeTime            63770 non-null  int64  \n",
      " 6   DOM                  32225 non-null  float64\n",
      " 7   followers            63770 non-null  int64  \n",
      " 8   totalPrice           63770 non-null  float64\n",
      " 9   price                63770 non-null  int64  \n",
      " 10  square               63770 non-null  float64\n",
      " 11  livingRoom           63770 non-null  object \n",
      " 12  drawingRoom          63770 non-null  object \n",
      " 13  kitchen              63770 non-null  int64  \n",
      " 14  bathRoom             63770 non-null  object \n",
      " 15  floor                63770 non-null  object \n",
      " 16  buildingType         63352 non-null  float64\n",
      " 17  constructionTime     63770 non-null  object \n",
      " 18  renovationCondition  63770 non-null  int64  \n",
      " 19  buildingStructure    63770 non-null  int64  \n",
      " 20  ladderRatio          63770 non-null  float64\n",
      " 21  elevator             63765 non-null  float64\n",
      " 22  fiveYearsProperty    63765 non-null  float64\n",
      " 23  subway               63765 non-null  float64\n",
      " 24  district             63770 non-null  int64  \n",
      " 25  communityAverage     63669 non-null  float64\n",
      "dtypes: float64(11), int64(8), object(7)\n",
      "memory usage: 13.1+ MB\n"
     ]
    }
   ],
   "source": [
    "data.info()"
   ]
  },
  {
   "cell_type": "code",
   "execution_count": 10,
   "id": "066e3a80",
   "metadata": {},
   "outputs": [
    {
     "data": {
      "text/plain": [
       "(63770, 26)"
      ]
     },
     "execution_count": 10,
     "metadata": {},
     "output_type": "execute_result"
    }
   ],
   "source": [
    "data.shape"
   ]
  },
  {
   "cell_type": "code",
   "execution_count": 11,
   "id": "394f8ba7",
   "metadata": {},
   "outputs": [
    {
     "data": {
      "text/html": [
       "<div>\n",
       "<style scoped>\n",
       "    .dataframe tbody tr th:only-of-type {\n",
       "        vertical-align: middle;\n",
       "    }\n",
       "\n",
       "    .dataframe tbody tr th {\n",
       "        vertical-align: top;\n",
       "    }\n",
       "\n",
       "    .dataframe thead th {\n",
       "        text-align: right;\n",
       "    }\n",
       "</style>\n",
       "<table border=\"1\" class=\"dataframe\">\n",
       "  <thead>\n",
       "    <tr style=\"text-align: right;\">\n",
       "      <th></th>\n",
       "      <th>Lng</th>\n",
       "      <th>Lat</th>\n",
       "      <th>Cid</th>\n",
       "      <th>tradeTime</th>\n",
       "      <th>DOM</th>\n",
       "      <th>followers</th>\n",
       "      <th>totalPrice</th>\n",
       "      <th>price</th>\n",
       "      <th>square</th>\n",
       "      <th>kitchen</th>\n",
       "      <th>buildingType</th>\n",
       "      <th>renovationCondition</th>\n",
       "      <th>buildingStructure</th>\n",
       "      <th>ladderRatio</th>\n",
       "      <th>elevator</th>\n",
       "      <th>fiveYearsProperty</th>\n",
       "      <th>subway</th>\n",
       "      <th>district</th>\n",
       "      <th>communityAverage</th>\n",
       "    </tr>\n",
       "  </thead>\n",
       "  <tbody>\n",
       "    <tr>\n",
       "      <th>count</th>\n",
       "      <td>63770.000000</td>\n",
       "      <td>63770.000000</td>\n",
       "      <td>6.377000e+04</td>\n",
       "      <td>63770.000000</td>\n",
       "      <td>32225.000000</td>\n",
       "      <td>63770.000000</td>\n",
       "      <td>63770.000000</td>\n",
       "      <td>63770.000000</td>\n",
       "      <td>63770.000000</td>\n",
       "      <td>63770.000000</td>\n",
       "      <td>63352.000000</td>\n",
       "      <td>63770.000000</td>\n",
       "      <td>63770.000000</td>\n",
       "      <td>63770.000000</td>\n",
       "      <td>63765.000000</td>\n",
       "      <td>63765.000000</td>\n",
       "      <td>63765.000000</td>\n",
       "      <td>63770.000000</td>\n",
       "      <td>63669.000000</td>\n",
       "    </tr>\n",
       "    <tr>\n",
       "      <th>mean</th>\n",
       "      <td>116.418770</td>\n",
       "      <td>39.950007</td>\n",
       "      <td>1.131145e+12</td>\n",
       "      <td>2014.790466</td>\n",
       "      <td>28.572661</td>\n",
       "      <td>16.719947</td>\n",
       "      <td>348.521256</td>\n",
       "      <td>43527.039439</td>\n",
       "      <td>83.156549</td>\n",
       "      <td>0.994715</td>\n",
       "      <td>3.001417</td>\n",
       "      <td>2.609707</td>\n",
       "      <td>4.464325</td>\n",
       "      <td>0.381166</td>\n",
       "      <td>0.578970</td>\n",
       "      <td>0.646060</td>\n",
       "      <td>0.600972</td>\n",
       "      <td>6.762851</td>\n",
       "      <td>63646.706121</td>\n",
       "    </tr>\n",
       "    <tr>\n",
       "      <th>std</th>\n",
       "      <td>0.112248</td>\n",
       "      <td>0.092042</td>\n",
       "      <td>1.531625e+12</td>\n",
       "      <td>1.654276</td>\n",
       "      <td>49.571362</td>\n",
       "      <td>34.141710</td>\n",
       "      <td>224.476816</td>\n",
       "      <td>21613.840569</td>\n",
       "      <td>37.010133</td>\n",
       "      <td>0.110257</td>\n",
       "      <td>1.271683</td>\n",
       "      <td>1.309886</td>\n",
       "      <td>1.897528</td>\n",
       "      <td>0.178477</td>\n",
       "      <td>0.493728</td>\n",
       "      <td>0.478195</td>\n",
       "      <td>0.489702</td>\n",
       "      <td>2.807522</td>\n",
       "      <td>22265.799192</td>\n",
       "    </tr>\n",
       "    <tr>\n",
       "      <th>min</th>\n",
       "      <td>116.072514</td>\n",
       "      <td>39.627030</td>\n",
       "      <td>1.111027e+12</td>\n",
       "      <td>2002.000000</td>\n",
       "      <td>1.000000</td>\n",
       "      <td>0.000000</td>\n",
       "      <td>0.100000</td>\n",
       "      <td>1.000000</td>\n",
       "      <td>9.500000</td>\n",
       "      <td>0.000000</td>\n",
       "      <td>0.125000</td>\n",
       "      <td>0.000000</td>\n",
       "      <td>0.000000</td>\n",
       "      <td>0.000000</td>\n",
       "      <td>0.000000</td>\n",
       "      <td>0.000000</td>\n",
       "      <td>0.000000</td>\n",
       "      <td>1.000000</td>\n",
       "      <td>20483.000000</td>\n",
       "    </tr>\n",
       "    <tr>\n",
       "      <th>25%</th>\n",
       "      <td>116.345639</td>\n",
       "      <td>39.893276</td>\n",
       "      <td>1.111027e+12</td>\n",
       "      <td>2013.000000</td>\n",
       "      <td>1.000000</td>\n",
       "      <td>0.000000</td>\n",
       "      <td>205.000000</td>\n",
       "      <td>28156.250000</td>\n",
       "      <td>57.930000</td>\n",
       "      <td>1.000000</td>\n",
       "      <td>1.000000</td>\n",
       "      <td>1.000000</td>\n",
       "      <td>2.000000</td>\n",
       "      <td>0.250000</td>\n",
       "      <td>0.000000</td>\n",
       "      <td>0.000000</td>\n",
       "      <td>0.000000</td>\n",
       "      <td>6.000000</td>\n",
       "      <td>46339.000000</td>\n",
       "    </tr>\n",
       "    <tr>\n",
       "      <th>50%</th>\n",
       "      <td>116.416950</td>\n",
       "      <td>39.934643</td>\n",
       "      <td>1.111027e+12</td>\n",
       "      <td>2015.000000</td>\n",
       "      <td>6.000000</td>\n",
       "      <td>5.000000</td>\n",
       "      <td>295.000000</td>\n",
       "      <td>38810.000000</td>\n",
       "      <td>74.275000</td>\n",
       "      <td>1.000000</td>\n",
       "      <td>4.000000</td>\n",
       "      <td>3.000000</td>\n",
       "      <td>6.000000</td>\n",
       "      <td>0.333000</td>\n",
       "      <td>1.000000</td>\n",
       "      <td>1.000000</td>\n",
       "      <td>1.000000</td>\n",
       "      <td>7.000000</td>\n",
       "      <td>59023.000000</td>\n",
       "    </tr>\n",
       "    <tr>\n",
       "      <th>75%</th>\n",
       "      <td>116.477581</td>\n",
       "      <td>40.004167</td>\n",
       "      <td>1.111027e+12</td>\n",
       "      <td>2016.000000</td>\n",
       "      <td>36.000000</td>\n",
       "      <td>18.000000</td>\n",
       "      <td>427.000000</td>\n",
       "      <td>53784.750000</td>\n",
       "      <td>98.740000</td>\n",
       "      <td>1.000000</td>\n",
       "      <td>4.000000</td>\n",
       "      <td>4.000000</td>\n",
       "      <td>6.000000</td>\n",
       "      <td>0.500000</td>\n",
       "      <td>1.000000</td>\n",
       "      <td>1.000000</td>\n",
       "      <td>1.000000</td>\n",
       "      <td>8.000000</td>\n",
       "      <td>75942.000000</td>\n",
       "    </tr>\n",
       "    <tr>\n",
       "      <th>max</th>\n",
       "      <td>116.732378</td>\n",
       "      <td>40.252758</td>\n",
       "      <td>1.184867e+14</td>\n",
       "      <td>2018.000000</td>\n",
       "      <td>1335.000000</td>\n",
       "      <td>1085.000000</td>\n",
       "      <td>6000.000000</td>\n",
       "      <td>150000.000000</td>\n",
       "      <td>922.700000</td>\n",
       "      <td>4.000000</td>\n",
       "      <td>4.000000</td>\n",
       "      <td>4.000000</td>\n",
       "      <td>6.000000</td>\n",
       "      <td>3.000000</td>\n",
       "      <td>1.000000</td>\n",
       "      <td>1.000000</td>\n",
       "      <td>1.000000</td>\n",
       "      <td>13.000000</td>\n",
       "      <td>183109.000000</td>\n",
       "    </tr>\n",
       "  </tbody>\n",
       "</table>\n",
       "</div>"
      ],
      "text/plain": [
       "                Lng           Lat           Cid     tradeTime           DOM  \\\n",
       "count  63770.000000  63770.000000  6.377000e+04  63770.000000  32225.000000   \n",
       "mean     116.418770     39.950007  1.131145e+12   2014.790466     28.572661   \n",
       "std        0.112248      0.092042  1.531625e+12      1.654276     49.571362   \n",
       "min      116.072514     39.627030  1.111027e+12   2002.000000      1.000000   \n",
       "25%      116.345639     39.893276  1.111027e+12   2013.000000      1.000000   \n",
       "50%      116.416950     39.934643  1.111027e+12   2015.000000      6.000000   \n",
       "75%      116.477581     40.004167  1.111027e+12   2016.000000     36.000000   \n",
       "max      116.732378     40.252758  1.184867e+14   2018.000000   1335.000000   \n",
       "\n",
       "          followers    totalPrice          price        square       kitchen  \\\n",
       "count  63770.000000  63770.000000   63770.000000  63770.000000  63770.000000   \n",
       "mean      16.719947    348.521256   43527.039439     83.156549      0.994715   \n",
       "std       34.141710    224.476816   21613.840569     37.010133      0.110257   \n",
       "min        0.000000      0.100000       1.000000      9.500000      0.000000   \n",
       "25%        0.000000    205.000000   28156.250000     57.930000      1.000000   \n",
       "50%        5.000000    295.000000   38810.000000     74.275000      1.000000   \n",
       "75%       18.000000    427.000000   53784.750000     98.740000      1.000000   \n",
       "max     1085.000000   6000.000000  150000.000000    922.700000      4.000000   \n",
       "\n",
       "       buildingType  renovationCondition  buildingStructure   ladderRatio  \\\n",
       "count  63352.000000         63770.000000       63770.000000  63770.000000   \n",
       "mean       3.001417             2.609707           4.464325      0.381166   \n",
       "std        1.271683             1.309886           1.897528      0.178477   \n",
       "min        0.125000             0.000000           0.000000      0.000000   \n",
       "25%        1.000000             1.000000           2.000000      0.250000   \n",
       "50%        4.000000             3.000000           6.000000      0.333000   \n",
       "75%        4.000000             4.000000           6.000000      0.500000   \n",
       "max        4.000000             4.000000           6.000000      3.000000   \n",
       "\n",
       "           elevator  fiveYearsProperty        subway      district  \\\n",
       "count  63765.000000       63765.000000  63765.000000  63770.000000   \n",
       "mean       0.578970           0.646060      0.600972      6.762851   \n",
       "std        0.493728           0.478195      0.489702      2.807522   \n",
       "min        0.000000           0.000000      0.000000      1.000000   \n",
       "25%        0.000000           0.000000      0.000000      6.000000   \n",
       "50%        1.000000           1.000000      1.000000      7.000000   \n",
       "75%        1.000000           1.000000      1.000000      8.000000   \n",
       "max        1.000000           1.000000      1.000000     13.000000   \n",
       "\n",
       "       communityAverage  \n",
       "count      63669.000000  \n",
       "mean       63646.706121  \n",
       "std        22265.799192  \n",
       "min        20483.000000  \n",
       "25%        46339.000000  \n",
       "50%        59023.000000  \n",
       "75%        75942.000000  \n",
       "max       183109.000000  "
      ]
     },
     "execution_count": 11,
     "metadata": {},
     "output_type": "execute_result"
    }
   ],
   "source": [
    "data.describe()"
   ]
  },
  {
   "cell_type": "markdown",
   "id": "8c50c8a1",
   "metadata": {},
   "source": [
    "# Preprocesing the data"
   ]
  },
  {
   "cell_type": "markdown",
   "id": "7d6f6ce6",
   "metadata": {},
   "source": [
    "### Dropping irrelevant features\n",
    "\n",
    "Some features are logicaly irrelevants to the independant variable such as: id, url and floor therefore we drop them"
   ]
  },
  {
   "cell_type": "code",
   "execution_count": 12,
   "id": "db540a7a",
   "metadata": {},
   "outputs": [],
   "source": [
    "data.drop(['id', 'url', 'floor'], axis=1, inplace=True)"
   ]
  },
  {
   "cell_type": "markdown",
   "id": "62794b54",
   "metadata": {},
   "source": [
    "### Dropping rows with missed Prices (target variable)"
   ]
  },
  {
   "cell_type": "code",
   "execution_count": 13,
   "id": "e6e32457",
   "metadata": {},
   "outputs": [],
   "source": [
    "data.dropna(subset=['price'], inplace=True)"
   ]
  },
  {
   "cell_type": "markdown",
   "id": "6cbf6267",
   "metadata": {},
   "source": [
    "# Calculate the number of missing values per variable"
   ]
  },
  {
   "cell_type": "code",
   "execution_count": 14,
   "id": "e485c595",
   "metadata": {},
   "outputs": [],
   "source": [
    "missing_counts = data.isna().sum()\n",
    "missing_df = pd.DataFrame({'Variable': missing_counts.index, 'Value': missing_counts.values})\n",
    "missing_df = missing_df[missing_df['Value'] > 0]\n",
    "missing_df['Percentage'] = missing_df['Value'] / len(data)\n",
    "missing_df = missing_df.sort_values(by='Percentage', ascending=False)"
   ]
  },
  {
   "cell_type": "markdown",
   "id": "9d09fd96",
   "metadata": {},
   "source": [
    "# Missing values graph"
   ]
  },
  {
   "cell_type": "code",
   "execution_count": 15,
   "id": "d665bdec",
   "metadata": {
    "scrolled": true
   },
   "outputs": [
    {
     "data": {
      "image/png": "[encoded data removed]",
      "text/plain": [
       "<Figure size 1000x300 with 1 Axes>"
      ]
     },
     "metadata": {},
     "output_type": "display_data"
    }
   ],
   "source": [
    "plt.figure(figsize=(10, 3))\n",
    "plt.barh(missing_df['Variable'], missing_df['Percentage'], color='green')\n",
    "plt.xlabel('Percentage of Missing Values')\n",
    "plt.ylabel('Variable')\n",
    "plt.title('Missing Data by Variable')\n",
    "plt.show()"
   ]
  },
  {
   "cell_type": "code",
   "execution_count": 16,
   "id": "53e77812",
   "metadata": {},
   "outputs": [
    {
     "name": "stderr",
     "output_type": "stream",
     "text": [
      "C:\\Users\\monte\\AppData\\Local\\Temp\\ipykernel_26096\\4082449589.py:2: DtypeWarning: Columns (1,11,12) have mixed types. Specify dtype option on import or set low_memory=False.\n",
      "  data = pd.read_csv('housing.csv', na_values=missing_value_formats, encoding='latin1')\n"
     ]
    }
   ],
   "source": [
    "missing_value_formats = [\"?\", \"NA\", \"Na\", \"NaN.\", \".NaN\", \"NaN\", \"nA\", \"na\", \"n.a\", \"n.a.\", \"Î´Öª\", \".n.a\", \"n/a\", \"nan\", \"--\", \"UnKnown\"]\n",
    "data = pd.read_csv('housing.csv', na_values=missing_value_formats, encoding='latin1')"
   ]
  },
  {
   "cell_type": "markdown",
   "id": "f8ee36e1",
   "metadata": {},
   "source": [
    "I want to better understand the distribution of the data in the 'buildingType', 'communityAverage', 'constructionTime'column,\n",
    "identify possible outliers, evaluate if the variability of the mean is significantly greater than the median, \n",
    "and check if the standard deviation is high."
   ]
  },
  {
   "cell_type": "code",
   "execution_count": 17,
   "id": "6a4ba5df",
   "metadata": {},
   "outputs": [
    {
     "data": {
      "text/html": [
       "<div>\n",
       "<style scoped>\n",
       "    .dataframe tbody tr th:only-of-type {\n",
       "        vertical-align: middle;\n",
       "    }\n",
       "\n",
       "    .dataframe tbody tr th {\n",
       "        vertical-align: top;\n",
       "    }\n",
       "\n",
       "    .dataframe thead th {\n",
       "        text-align: right;\n",
       "    }\n",
       "</style>\n",
       "<table border=\"1\" class=\"dataframe\">\n",
       "  <thead>\n",
       "    <tr style=\"text-align: right;\">\n",
       "      <th></th>\n",
       "      <th>DOM</th>\n",
       "      <th>buildingType</th>\n",
       "      <th>communityAverage</th>\n",
       "      <th>constructionTime</th>\n",
       "    </tr>\n",
       "  </thead>\n",
       "  <tbody>\n",
       "    <tr>\n",
       "      <th>count</th>\n",
       "      <td>160874.000000</td>\n",
       "      <td>316830.000000</td>\n",
       "      <td>318388.000000</td>\n",
       "      <td>299568.000000</td>\n",
       "    </tr>\n",
       "    <tr>\n",
       "      <th>mean</th>\n",
       "      <td>28.822339</td>\n",
       "      <td>3.009790</td>\n",
       "      <td>63682.446305</td>\n",
       "      <td>1999.002517</td>\n",
       "    </tr>\n",
       "    <tr>\n",
       "      <th>std</th>\n",
       "      <td>50.237343</td>\n",
       "      <td>1.269857</td>\n",
       "      <td>22329.215447</td>\n",
       "      <td>22.443793</td>\n",
       "    </tr>\n",
       "    <tr>\n",
       "      <th>min</th>\n",
       "      <td>1.000000</td>\n",
       "      <td>0.048000</td>\n",
       "      <td>10847.000000</td>\n",
       "      <td>0.000000</td>\n",
       "    </tr>\n",
       "    <tr>\n",
       "      <th>25%</th>\n",
       "      <td>1.000000</td>\n",
       "      <td>1.000000</td>\n",
       "      <td>46339.000000</td>\n",
       "      <td>1994.000000</td>\n",
       "    </tr>\n",
       "    <tr>\n",
       "      <th>50%</th>\n",
       "      <td>6.000000</td>\n",
       "      <td>4.000000</td>\n",
       "      <td>59015.000000</td>\n",
       "      <td>2001.000000</td>\n",
       "    </tr>\n",
       "    <tr>\n",
       "      <th>75%</th>\n",
       "      <td>37.000000</td>\n",
       "      <td>4.000000</td>\n",
       "      <td>75950.000000</td>\n",
       "      <td>2006.000000</td>\n",
       "    </tr>\n",
       "    <tr>\n",
       "      <th>max</th>\n",
       "      <td>1677.000000</td>\n",
       "      <td>4.000000</td>\n",
       "      <td>183109.000000</td>\n",
       "      <td>2016.000000</td>\n",
       "    </tr>\n",
       "  </tbody>\n",
       "</table>\n",
       "</div>"
      ],
      "text/plain": [
       "                 DOM   buildingType  communityAverage  constructionTime\n",
       "count  160874.000000  316830.000000     318388.000000     299568.000000\n",
       "mean       28.822339       3.009790      63682.446305       1999.002517\n",
       "std        50.237343       1.269857      22329.215447         22.443793\n",
       "min         1.000000       0.048000      10847.000000          0.000000\n",
       "25%         1.000000       1.000000      46339.000000       1994.000000\n",
       "50%         6.000000       4.000000      59015.000000       2001.000000\n",
       "75%        37.000000       4.000000      75950.000000       2006.000000\n",
       "max      1677.000000       4.000000     183109.000000       2016.000000"
      ]
     },
     "execution_count": 17,
     "metadata": {},
     "output_type": "execute_result"
    }
   ],
   "source": [
    "data[['DOM','buildingType', 'communityAverage', 'constructionTime']].describe() "
   ]
  },
  {
   "cell_type": "code",
   "execution_count": 18,
   "id": "26ecea42",
   "metadata": {},
   "outputs": [
    {
     "data": {
      "image/png": "[encoded data removed]",
      "text/plain": [
       "<Figure size 2000x200 with 2 Axes>"
      ]
     },
     "metadata": {},
     "output_type": "display_data"
    }
   ],
   "source": [
    "fix, (ax1, ax2) = plt.subplots(1, 2, figsize=(20, 2))\n",
    "\n",
    "data['communityAverage'].hist(ax=ax1)\n",
    "plt.xlabel('Community Average')\n",
    "plt.ylabel('Distribution')\n",
    "\n",
    "data['communityAverage'].fillna(data['communityAverage'].mean(), inplace=True)\n",
    "\n",
    "data['communityAverage'].hist(ax=ax2)\n",
    "\n",
    "plt.show()\n"
   ]
  },
  {
   "cell_type": "markdown",
   "id": "77df7497",
   "metadata": {},
   "source": [
    "Using the median of the existing values in the buildingType,communityAverage column to replace missing values"
   ]
  },
  {
   "cell_type": "code",
   "execution_count": 19,
   "id": "d7b53569",
   "metadata": {},
   "outputs": [],
   "source": [
    "data['DOM'].fillna(data['DOM'].mean(), inplace=True)\n",
    "data['buildingType'].fillna(data['buildingType'].mode()[0], inplace=True)\n",
    "data['communityAverage'].fillna(data['communityAverage'].mean(), inplace=True)\n",
    "data['constructionTime'].fillna(data['constructionTime'].mean(), inplace=True)\n",
    "data['elevator'].fillna(data['elevator'].mode()[0], inplace=True)\n",
    "data['fiveYearsProperty'].fillna(data['fiveYearsProperty'].mean(), inplace=True)\n",
    "data['subway'].fillna(data['subway'].mode()[0], inplace=True)\n",
    "data['bathRoom'].fillna(data['bathRoom'].mode()[0], inplace=True)"
   ]
  },
  {
   "cell_type": "markdown",
   "id": "dbb7f901",
   "metadata": {},
   "source": [
    "Identifying which columns have missing values"
   ]
  },
  {
   "cell_type": "code",
   "execution_count": 20,
   "id": "ebd3ef9f",
   "metadata": {},
   "outputs": [
    {
     "data": {
      "text/plain": [
       "url                    0\n",
       "id                     0\n",
       "Lng                    0\n",
       "Lat                    0\n",
       "Cid                    0\n",
       "tradeTime              0\n",
       "DOM                    0\n",
       "followers              0\n",
       "totalPrice             0\n",
       "price                  0\n",
       "square                 0\n",
       "livingRoom             0\n",
       "drawingRoom            0\n",
       "kitchen                0\n",
       "bathRoom               0\n",
       "floor                  0\n",
       "buildingType           0\n",
       "constructionTime       0\n",
       "renovationCondition    0\n",
       "buildingStructure      0\n",
       "ladderRatio            0\n",
       "elevator               0\n",
       "fiveYearsProperty      0\n",
       "subway                 0\n",
       "district               0\n",
       "communityAverage       0\n",
       "dtype: int64"
      ]
     },
     "execution_count": 20,
     "metadata": {},
     "output_type": "execute_result"
    }
   ],
   "source": [
    "data.isnull().sum()"
   ]
  },
  {
   "cell_type": "markdown",
   "id": "d7d610c9",
   "metadata": {},
   "source": [
    "## Data standardization"
   ]
  },
  {
   "cell_type": "code",
   "execution_count": 21,
   "id": "80391ffb",
   "metadata": {},
   "outputs": [
    {
     "ename": "ValueError",
     "evalue": "could not convert string to float: 'https://bj.lianjia.com/chengjiao/101084782030.html'",
     "output_type": "error",
     "traceback": [
      "\u001b[1;31m---------------------------------------------------------------------------\u001b[0m",
      "\u001b[1;31mValueError\u001b[0m                                Traceback (most recent call last)",
      "\u001b[1;32m~\\AppData\\Local\\Temp\\ipykernel_26096\\682444489.py\u001b[0m in \u001b[0;36m?\u001b[1;34m()\u001b[0m\n\u001b[0;32m      2\u001b[0m \u001b[1;33m\u001b[0m\u001b[0m\n\u001b[0;32m      3\u001b[0m \u001b[0mX\u001b[0m \u001b[1;33m=\u001b[0m \u001b[0mdata\u001b[0m\u001b[1;33m.\u001b[0m\u001b[0mdrop\u001b[0m\u001b[1;33m(\u001b[0m\u001b[1;34m'price'\u001b[0m\u001b[1;33m,\u001b[0m \u001b[0maxis\u001b[0m\u001b[1;33m=\u001b[0m\u001b[1;36m1\u001b[0m\u001b[1;33m)\u001b[0m\u001b[1;33m\u001b[0m\u001b[1;33m\u001b[0m\u001b[0m\n\u001b[0;32m      4\u001b[0m \u001b[0my\u001b[0m \u001b[1;33m=\u001b[0m \u001b[0mdata\u001b[0m\u001b[1;33m[\u001b[0m\u001b[1;34m'price'\u001b[0m\u001b[1;33m]\u001b[0m\u001b[1;33m\u001b[0m\u001b[1;33m\u001b[0m\u001b[0m\n\u001b[0;32m      5\u001b[0m \u001b[1;33m\u001b[0m\u001b[0m\n\u001b[1;32m----> 6\u001b[1;33m \u001b[0mX_scaled\u001b[0m \u001b[1;33m=\u001b[0m \u001b[0mpreprocessing\u001b[0m\u001b[1;33m.\u001b[0m\u001b[0mscale\u001b[0m\u001b[1;33m(\u001b[0m\u001b[0mX\u001b[0m\u001b[1;33m)\u001b[0m\u001b[1;33m\u001b[0m\u001b[1;33m\u001b[0m\u001b[0m\n\u001b[0m",
      "\u001b[1;32m~\\anaconda3\\Lib\\site-packages\\sklearn\\preprocessing\\_data.py\u001b[0m in \u001b[0;36m?\u001b[1;34m(X, axis, with_mean, with_std, copy)\u001b[0m\n\u001b[0;32m    195\u001b[0m         \u001b[1;33m:\u001b[0m\u001b[1;32mclass\u001b[0m\u001b[1;33m:\u001b[0m\u001b[0;31m`\u001b[0m\u001b[1;33m~\u001b[0m\u001b[0msklearn\u001b[0m\u001b[1;33m.\u001b[0m\u001b[0mpreprocessing\u001b[0m\u001b[1;33m.\u001b[0m\u001b[0mStandardScaler\u001b[0m\u001b[0;31m`\u001b[0m \u001b[0mwithin\u001b[0m \u001b[0ma\u001b[0m\u001b[1;33m\u001b[0m\u001b[1;33m\u001b[0m\u001b[0m\n\u001b[0;32m    196\u001b[0m         \u001b[1;33m:\u001b[0m\u001b[0mref\u001b[0m\u001b[1;33m:\u001b[0m\u001b[0;31m`\u001b[0m\u001b[0mPipeline\u001b[0m \u001b[1;33m<\u001b[0m\u001b[0mpipeline\u001b[0m\u001b[1;33m>\u001b[0m\u001b[0;31m`\u001b[0m \u001b[1;32min\u001b[0m \u001b[0morder\u001b[0m \u001b[0mto\u001b[0m \u001b[0mprevent\u001b[0m \u001b[0mmost\u001b[0m \u001b[0mrisks\u001b[0m \u001b[0mof\u001b[0m \u001b[0mdata\u001b[0m\u001b[1;33m\u001b[0m\u001b[1;33m\u001b[0m\u001b[0m\n\u001b[0;32m    197\u001b[0m         \u001b[0mleaking\u001b[0m\u001b[1;33m:\u001b[0m\u001b[0;31m \u001b[0m\u001b[0;31m`\u001b[0m\u001b[0mpipe\u001b[0m \u001b[1;33m=\u001b[0m \u001b[0mmake_pipeline\u001b[0m\u001b[1;33m(\u001b[0m\u001b[0mStandardScaler\u001b[0m\u001b[1;33m(\u001b[0m\u001b[1;33m)\u001b[0m\u001b[1;33m,\u001b[0m \u001b[0mLogisticRegression\u001b[0m\u001b[1;33m(\u001b[0m\u001b[1;33m)\u001b[0m\u001b[1;33m)\u001b[0m\u001b[0;31m`\u001b[0m\u001b[1;33m.\u001b[0m\u001b[1;33m\u001b[0m\u001b[1;33m\u001b[0m\u001b[0m\n\u001b[0;32m    198\u001b[0m     \"\"\"  # noqa\n\u001b[1;32m--> 199\u001b[1;33m     X = check_array(\n\u001b[0m\u001b[0;32m    200\u001b[0m         \u001b[0mX\u001b[0m\u001b[1;33m,\u001b[0m\u001b[1;33m\u001b[0m\u001b[1;33m\u001b[0m\u001b[0m\n\u001b[0;32m    201\u001b[0m         \u001b[0maccept_sparse\u001b[0m\u001b[1;33m=\u001b[0m\u001b[1;34m\"csc\"\u001b[0m\u001b[1;33m,\u001b[0m\u001b[1;33m\u001b[0m\u001b[1;33m\u001b[0m\u001b[0m\n\u001b[0;32m    202\u001b[0m         \u001b[0mcopy\u001b[0m\u001b[1;33m=\u001b[0m\u001b[0mcopy\u001b[0m\u001b[1;33m,\u001b[0m\u001b[1;33m\u001b[0m\u001b[1;33m\u001b[0m\u001b[0m\n",
      "\u001b[1;32m~\\anaconda3\\Lib\\site-packages\\sklearn\\utils\\validation.py\u001b[0m in \u001b[0;36m?\u001b[1;34m(array, accept_sparse, accept_large_sparse, dtype, order, copy, force_all_finite, ensure_2d, allow_nd, ensure_min_samples, ensure_min_features, estimator, input_name)\u001b[0m\n\u001b[0;32m    876\u001b[0m                         )\n\u001b[0;32m    877\u001b[0m                     \u001b[0marray\u001b[0m \u001b[1;33m=\u001b[0m \u001b[0mxp\u001b[0m\u001b[1;33m.\u001b[0m\u001b[0mastype\u001b[0m\u001b[1;33m(\u001b[0m\u001b[0marray\u001b[0m\u001b[1;33m,\u001b[0m \u001b[0mdtype\u001b[0m\u001b[1;33m,\u001b[0m \u001b[0mcopy\u001b[0m\u001b[1;33m=\u001b[0m\u001b[1;32mFalse\u001b[0m\u001b[1;33m)\u001b[0m\u001b[1;33m\u001b[0m\u001b[1;33m\u001b[0m\u001b[0m\n\u001b[0;32m    878\u001b[0m                 \u001b[1;32melse\u001b[0m\u001b[1;33m:\u001b[0m\u001b[1;33m\u001b[0m\u001b[1;33m\u001b[0m\u001b[0m\n\u001b[0;32m    879\u001b[0m                     \u001b[0marray\u001b[0m \u001b[1;33m=\u001b[0m \u001b[0m_asarray_with_order\u001b[0m\u001b[1;33m(\u001b[0m\u001b[0marray\u001b[0m\u001b[1;33m,\u001b[0m \u001b[0morder\u001b[0m\u001b[1;33m=\u001b[0m\u001b[0morder\u001b[0m\u001b[1;33m,\u001b[0m \u001b[0mdtype\u001b[0m\u001b[1;33m=\u001b[0m\u001b[0mdtype\u001b[0m\u001b[1;33m,\u001b[0m \u001b[0mxp\u001b[0m\u001b[1;33m=\u001b[0m\u001b[0mxp\u001b[0m\u001b[1;33m)\u001b[0m\u001b[1;33m\u001b[0m\u001b[1;33m\u001b[0m\u001b[0m\n\u001b[1;32m--> 880\u001b[1;33m             \u001b[1;32mexcept\u001b[0m \u001b[0mComplexWarning\u001b[0m \u001b[1;32mas\u001b[0m \u001b[0mcomplex_warning\u001b[0m\u001b[1;33m:\u001b[0m\u001b[1;33m\u001b[0m\u001b[1;33m\u001b[0m\u001b[0m\n\u001b[0m\u001b[0;32m    881\u001b[0m                 raise ValueError(\n\u001b[0;32m    882\u001b[0m                     \u001b[1;34m\"Complex data not supported\\n{}\\n\"\u001b[0m\u001b[1;33m.\u001b[0m\u001b[0mformat\u001b[0m\u001b[1;33m(\u001b[0m\u001b[0marray\u001b[0m\u001b[1;33m)\u001b[0m\u001b[1;33m\u001b[0m\u001b[1;33m\u001b[0m\u001b[0m\n\u001b[0;32m    883\u001b[0m                 ) from complex_warning\n",
      "\u001b[1;32m~\\anaconda3\\Lib\\site-packages\\sklearn\\utils\\_array_api.py\u001b[0m in \u001b[0;36m?\u001b[1;34m(array, dtype, order, copy, xp)\u001b[0m\n\u001b[0;32m    181\u001b[0m     \u001b[1;32mif\u001b[0m \u001b[0mxp\u001b[0m \u001b[1;32mis\u001b[0m \u001b[1;32mNone\u001b[0m\u001b[1;33m:\u001b[0m\u001b[1;33m\u001b[0m\u001b[1;33m\u001b[0m\u001b[0m\n\u001b[0;32m    182\u001b[0m         \u001b[0mxp\u001b[0m\u001b[1;33m,\u001b[0m \u001b[0m_\u001b[0m \u001b[1;33m=\u001b[0m \u001b[0mget_namespace\u001b[0m\u001b[1;33m(\u001b[0m\u001b[0marray\u001b[0m\u001b[1;33m)\u001b[0m\u001b[1;33m\u001b[0m\u001b[1;33m\u001b[0m\u001b[0m\n\u001b[0;32m    183\u001b[0m     \u001b[1;32mif\u001b[0m \u001b[0mxp\u001b[0m\u001b[1;33m.\u001b[0m\u001b[0m__name__\u001b[0m \u001b[1;32min\u001b[0m \u001b[1;33m{\u001b[0m\u001b[1;34m\"numpy\"\u001b[0m\u001b[1;33m,\u001b[0m \u001b[1;34m\"numpy.array_api\"\u001b[0m\u001b[1;33m}\u001b[0m\u001b[1;33m:\u001b[0m\u001b[1;33m\u001b[0m\u001b[1;33m\u001b[0m\u001b[0m\n\u001b[0;32m    184\u001b[0m         \u001b[1;31m# Use NumPy API to support order\u001b[0m\u001b[1;33m\u001b[0m\u001b[1;33m\u001b[0m\u001b[0m\n\u001b[1;32m--> 185\u001b[1;33m         \u001b[0marray\u001b[0m \u001b[1;33m=\u001b[0m \u001b[0mnumpy\u001b[0m\u001b[1;33m.\u001b[0m\u001b[0masarray\u001b[0m\u001b[1;33m(\u001b[0m\u001b[0marray\u001b[0m\u001b[1;33m,\u001b[0m \u001b[0morder\u001b[0m\u001b[1;33m=\u001b[0m\u001b[0morder\u001b[0m\u001b[1;33m,\u001b[0m \u001b[0mdtype\u001b[0m\u001b[1;33m=\u001b[0m\u001b[0mdtype\u001b[0m\u001b[1;33m)\u001b[0m\u001b[1;33m\u001b[0m\u001b[1;33m\u001b[0m\u001b[0m\n\u001b[0m\u001b[0;32m    186\u001b[0m         \u001b[1;32mreturn\u001b[0m \u001b[0mxp\u001b[0m\u001b[1;33m.\u001b[0m\u001b[0masarray\u001b[0m\u001b[1;33m(\u001b[0m\u001b[0marray\u001b[0m\u001b[1;33m,\u001b[0m \u001b[0mcopy\u001b[0m\u001b[1;33m=\u001b[0m\u001b[0mcopy\u001b[0m\u001b[1;33m)\u001b[0m\u001b[1;33m\u001b[0m\u001b[1;33m\u001b[0m\u001b[0m\n\u001b[0;32m    187\u001b[0m     \u001b[1;32melse\u001b[0m\u001b[1;33m:\u001b[0m\u001b[1;33m\u001b[0m\u001b[1;33m\u001b[0m\u001b[0m\n\u001b[0;32m    188\u001b[0m         \u001b[1;32mreturn\u001b[0m \u001b[0mxp\u001b[0m\u001b[1;33m.\u001b[0m\u001b[0masarray\u001b[0m\u001b[1;33m(\u001b[0m\u001b[0marray\u001b[0m\u001b[1;33m,\u001b[0m \u001b[0mdtype\u001b[0m\u001b[1;33m=\u001b[0m\u001b[0mdtype\u001b[0m\u001b[1;33m,\u001b[0m \u001b[0mcopy\u001b[0m\u001b[1;33m=\u001b[0m\u001b[0mcopy\u001b[0m\u001b[1;33m)\u001b[0m\u001b[1;33m\u001b[0m\u001b[1;33m\u001b[0m\u001b[0m\n",
      "\u001b[1;32m~\\anaconda3\\Lib\\site-packages\\pandas\\core\\generic.py\u001b[0m in \u001b[0;36m?\u001b[1;34m(self, dtype)\u001b[0m\n\u001b[0;32m   2082\u001b[0m     \u001b[1;32mdef\u001b[0m \u001b[0m__array__\u001b[0m\u001b[1;33m(\u001b[0m\u001b[0mself\u001b[0m\u001b[1;33m,\u001b[0m \u001b[0mdtype\u001b[0m\u001b[1;33m:\u001b[0m \u001b[0mnpt\u001b[0m\u001b[1;33m.\u001b[0m\u001b[0mDTypeLike\u001b[0m \u001b[1;33m|\u001b[0m \u001b[1;32mNone\u001b[0m \u001b[1;33m=\u001b[0m \u001b[1;32mNone\u001b[0m\u001b[1;33m)\u001b[0m \u001b[1;33m->\u001b[0m \u001b[0mnp\u001b[0m\u001b[1;33m.\u001b[0m\u001b[0mndarray\u001b[0m\u001b[1;33m:\u001b[0m\u001b[1;33m\u001b[0m\u001b[1;33m\u001b[0m\u001b[0m\n\u001b[0;32m   2083\u001b[0m         \u001b[0mvalues\u001b[0m \u001b[1;33m=\u001b[0m \u001b[0mself\u001b[0m\u001b[1;33m.\u001b[0m\u001b[0m_values\u001b[0m\u001b[1;33m\u001b[0m\u001b[1;33m\u001b[0m\u001b[0m\n\u001b[1;32m-> 2084\u001b[1;33m         \u001b[0marr\u001b[0m \u001b[1;33m=\u001b[0m \u001b[0mnp\u001b[0m\u001b[1;33m.\u001b[0m\u001b[0masarray\u001b[0m\u001b[1;33m(\u001b[0m\u001b[0mvalues\u001b[0m\u001b[1;33m,\u001b[0m \u001b[0mdtype\u001b[0m\u001b[1;33m=\u001b[0m\u001b[0mdtype\u001b[0m\u001b[1;33m)\u001b[0m\u001b[1;33m\u001b[0m\u001b[1;33m\u001b[0m\u001b[0m\n\u001b[0m\u001b[0;32m   2085\u001b[0m         if (\n\u001b[0;32m   2086\u001b[0m             \u001b[0mastype_is_view\u001b[0m\u001b[1;33m(\u001b[0m\u001b[0mvalues\u001b[0m\u001b[1;33m.\u001b[0m\u001b[0mdtype\u001b[0m\u001b[1;33m,\u001b[0m \u001b[0marr\u001b[0m\u001b[1;33m.\u001b[0m\u001b[0mdtype\u001b[0m\u001b[1;33m)\u001b[0m\u001b[1;33m\u001b[0m\u001b[1;33m\u001b[0m\u001b[0m\n\u001b[0;32m   2087\u001b[0m             \u001b[1;32mand\u001b[0m \u001b[0musing_copy_on_write\u001b[0m\u001b[1;33m(\u001b[0m\u001b[1;33m)\u001b[0m\u001b[1;33m\u001b[0m\u001b[1;33m\u001b[0m\u001b[0m\n",
      "\u001b[1;31mValueError\u001b[0m: could not convert string to float: 'https://bj.lianjia.com/chengjiao/101084782030.html'"
     ]
    }
   ],
   "source": [
    "from sklearn import preprocessing\n",
    "\n",
    "X = data.drop('price', axis=1)\n",
    "y = data['price']\n",
    "\n",
    "X_scaled = preprocessing.scale(X)"
   ]
  },
  {
   "cell_type": "code",
   "execution_count": null,
   "id": "32d25bef",
   "metadata": {},
   "outputs": [],
   "source": [
    "X_df = pd.DataFrame(X_scaled, columns=X.columns)"
   ]
  },
  {
   "cell_type": "markdown",
   "id": "a5841811",
   "metadata": {},
   "source": [
    "# Model Linear Regression"
   ]
  },
  {
   "cell_type": "code",
   "execution_count": null,
   "id": "b659e6ed",
   "metadata": {},
   "outputs": [],
   "source": [
    "import numpy as np\n",
    "from sklearn.model_selection import train_test_split, cross_val_score\n",
    "from sklearn.linear_model import LinearRegression\n",
    "from sklearn.ensemble import RandomForestRegressor"
   ]
  },
  {
   "cell_type": "code",
   "execution_count": null,
   "id": "43421878",
   "metadata": {},
   "outputs": [],
   "source": [
    "test_sizes = [0.2, 0.25, 0.3]\n",
    "linear_scores = []"
   ]
  },
  {
   "cell_type": "code",
   "execution_count": null,
   "id": "f0421297",
   "metadata": {},
   "outputs": [],
   "source": [
    "for test_size in test_sizes:\n",
    "    X_train, X_test, y_train, y_test = train_test_split(X_df, y, test_size=test_size, random_state=42)\n",
    "    \n",
    "    lm = LinearRegression()\n",
    "    scores = cross_val_score(lm, X_train, y_train, cv=5, scoring=\"r2\")\n",
    "    \n",
    "    linear_scores.append(scores)"
   ]
  },
  {
   "cell_type": "code",
   "execution_count": null,
   "id": "e8cb18a9",
   "metadata": {},
   "outputs": [],
   "source": [
    "for i, size in enumerate(test_sizes):\n",
    "    print(f\"R2 score for LR on {size}: {np.mean(linear_scores[i])}\")"
   ]
  },
  {
   "cell_type": "markdown",
   "id": "b3f66288",
   "metadata": {},
   "source": [
    "# Random Forest"
   ]
  },
  {
   "cell_type": "code",
   "execution_count": null,
   "id": "7816141d",
   "metadata": {},
   "outputs": [],
   "source": [
    "rf_scores = []"
   ]
  },
  {
   "cell_type": "code",
   "execution_count": null,
   "id": "d371fc3f",
   "metadata": {},
   "outputs": [],
   "source": [
    "for test_size in test_sizes:\n",
    "    X_train, X_test, y_train, y_test = train_test_split(X_df, y, test_size=test_size, random_state=42)\n",
    "    \n",
    "    rf = RandomForestRegressor(n_estimators=100)\n",
    "\n",
    "    scores = cross_val_score(rf, X_train, y_train, cv=5, scoring=\"r2\")\n",
    "\n",
    "    rf_scores.append(scores)"
   ]
  },
  {
   "cell_type": "code",
   "execution_count": null,
   "id": "9b460669",
   "metadata": {},
   "outputs": [],
   "source": [
    "for i, size in enumerate(test_sizes):\n",
    "    print(f\"R2 score for {size} on {np.mean(rf_scores[i])}\")"
   ]
  },
  {
   "cell_type": "markdown",
   "id": "511c7949",
   "metadata": {},
   "source": [
    "## Hyperparameters"
   ]
  },
  {
   "cell_type": "code",
   "execution_count": null,
   "id": "d757db0f",
   "metadata": {},
   "outputs": [],
   "source": [
    "from sklearn.model_selection import GridSearchCV"
   ]
  },
  {
   "cell_type": "markdown",
   "id": "41a54542",
   "metadata": {},
   "source": [
    "### Hyperparameter tuning"
   ]
  },
  {
   "cell_type": "markdown",
   "id": "5659400f",
   "metadata": {},
   "source": [
    "Linear Regretion"
   ]
  },
  {
   "cell_type": "code",
   "execution_count": null,
   "id": "3865984f",
   "metadata": {},
   "outputs": [],
   "source": [
    "X_train_linear, X_test_linear, y_train_linear, y_test_linear = train_test_split(X, y, test_size=0.3, random_state=42)\n",
    "\n",
    "param_grid = {'n_jobs': [50, 100, 150]}\n",
    "    \n",
    "lm = LinearRegression()\n",
    "\n",
    "gs = GridSearchCV(lm, param_grid=param_grid, cv=5)\n",
    "\n",
    "gs.fit(X_train, y_train)\n",
    "\n",
    "lm_best_params = gs.best_params_\n",
    "lm_best_score = gs.best_score_\n",
    "\n",
    "print(\"Best params for LR: \", lm_best_params)\n",
    "print(\"Best score: \", lm_best_score)"
   ]
  },
  {
   "cell_type": "markdown",
   "id": "82ad2344",
   "metadata": {},
   "source": [
    "Random Forest"
   ]
  },
  {
   "cell_type": "code",
   "execution_count": null,
   "id": "e54e1482",
   "metadata": {},
   "outputs": [],
   "source": [
    "rf = RandomForestRegressor(random_state=42)\n",
    "\n",
    "param_grid = {\n",
    "    'n_estimators': [100, 200, 300],\n",
    "    'max_depth': [None, 5, 10],\n",
    "    'min_samples_split': [2, 5, 10],\n",
    "    'min_samples_leaf': [1, 2, 4],\n",
    "    'max_features': ['auto', 'sqrt', 'log2']\n",
    "}\n",
    "\n",
    "gs = GridSearchCV(rf, param_grid=param_grid, cv=5, scoring='r2')\n",
    "\n",
    "gs.fit(X_train, y_train)\n",
    "\n",
    "rf_best_params = gs.best_params_\n",
    "rf_best_score = gs.best_score_\n",
    "\n",
    "print(f\"Best params for RF: {rf_best_params}\")\n",
    "print(f\"Best score: {rf_best_score}\")"
   ]
  },
  {
   "cell_type": "markdown",
   "id": "7c5cac64",
   "metadata": {},
   "source": [
    "# Graphics"
   ]
  },
  {
   "cell_type": "markdown",
   "id": "da5aec65",
   "metadata": {},
   "source": [
    "Testing our modes withing the best split and best hyperparameters"
   ]
  },
  {
   "cell_type": "code",
   "execution_count": null,
   "id": "e7c10f6e",
   "metadata": {},
   "outputs": [],
   "source": [
    "# getting the testing score of both models"
   ]
  },
  {
   "cell_type": "markdown",
   "id": "cd0261c0",
   "metadata": {},
   "source": [
    "Plotting the TP, FP, TN, FN with a confussion matrix and heat map"
   ]
  },
  {
   "cell_type": "code",
   "execution_count": null,
   "id": "d46d2eaa",
   "metadata": {},
   "outputs": [],
   "source": [
    "# compare test labels and predited labels"
   ]
  }
 ],
 "metadata": {
  "kernelspec": {
   "display_name": "Python 3 (ipykernel)",
   "language": "python",
   "name": "python3"
  },
  "language_info": {
   "codemirror_mode": {
    "name": "ipython",
    "version": 3
   },
   "file_extension": ".py",
   "mimetype": "text/x-python",
   "name": "python",
   "nbconvert_exporter": "python",
   "pygments_lexer": "ipython3",
   "version": "3.11.7"
  }
 },
 "nbformat": 4,
 "nbformat_minor": 5
}
