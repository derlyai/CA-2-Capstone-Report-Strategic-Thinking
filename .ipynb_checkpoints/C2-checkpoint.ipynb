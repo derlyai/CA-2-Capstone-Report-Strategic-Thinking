{
 "cells": [
  {
   "cell_type": "markdown",
   "id": "1d0135e9",
   "metadata": {},
   "source": [
    "*Student Full Name: Derly Milded Montealegre Gonzalez \n",
    "*Student Number: 2024151 \n",
    "*Module Title: Strategic Thinking\n",
    "*Assessment Title: CA 2 Capstone Report\n",
    "*Assessment Due Date: 16 April 2024 \n",
    "*Date of Submission: 19 May 2024"
   ]
  },
  {
   "cell_type": "markdown",
   "id": "389f327e",
   "metadata": {},
   "source": [
    "# Load Libraries"
   ]
  },
  {
   "cell_type": "code",
   "execution_count": 1,
   "id": "177d0d35",
   "metadata": {},
   "outputs": [],
   "source": [
    "import pandas as pd\n",
    "import matplotlib.pyplot as plt\n",
    "import sklearn.preprocessing as preproc\n",
    "import seaborn as sns\n",
    "import warnings\n",
    "warnings.filterwarnings(\"ignore\", message=\"The least populated class in y has only 1 members\")"
   ]
  },
  {
   "cell_type": "markdown",
   "id": "b85ddd8c",
   "metadata": {},
   "source": [
    "# Reading the Data"
   ]
  },
  {
   "cell_type": "markdown",
   "id": "a7f5bad7",
   "metadata": {},
   "source": [
    "Due to the fact that the original csv file had some chinese characters we use latin1 file encoding rather than the default type"
   ]
  },
  {
   "cell_type": "code",
   "execution_count": 2,
   "id": "9337b51e",
   "metadata": {},
   "outputs": [
    {
     "name": "stderr",
     "output_type": "stream",
     "text": [
      "C:\\Users\\monte\\AppData\\Local\\Temp\\ipykernel_9676\\1111279284.py:1: DtypeWarning: Columns (1,11,12,14) have mixed types. Specify dtype option on import or set low_memory=False.\n",
      "  data = pd.read_csv(\"housing.csv\", encoding=\"latin1\")\n"
     ]
    }
   ],
   "source": [
    "data = pd.read_csv(\"housing.csv\", encoding=\"latin1\")\n",
    "data = data.sample(frac=0.2)"
   ]
  },
  {
   "cell_type": "code",
   "execution_count": 3,
   "id": "41673301",
   "metadata": {},
   "outputs": [
    {
     "data": {
      "text/html": [
       "<div>\n",
       "<style scoped>\n",
       "    .dataframe tbody tr th:only-of-type {\n",
       "        vertical-align: middle;\n",
       "    }\n",
       "\n",
       "    .dataframe tbody tr th {\n",
       "        vertical-align: top;\n",
       "    }\n",
       "\n",
       "    .dataframe thead th {\n",
       "        text-align: right;\n",
       "    }\n",
       "</style>\n",
       "<table border=\"1\" class=\"dataframe\">\n",
       "  <thead>\n",
       "    <tr style=\"text-align: right;\">\n",
       "      <th></th>\n",
       "      <th>url</th>\n",
       "      <th>id</th>\n",
       "      <th>Lng</th>\n",
       "      <th>Lat</th>\n",
       "      <th>Cid</th>\n",
       "      <th>tradeTime</th>\n",
       "      <th>DOM</th>\n",
       "      <th>followers</th>\n",
       "      <th>totalPrice</th>\n",
       "      <th>price</th>\n",
       "      <th>...</th>\n",
       "      <th>buildingType</th>\n",
       "      <th>constructionTime</th>\n",
       "      <th>renovationCondition</th>\n",
       "      <th>buildingStructure</th>\n",
       "      <th>ladderRatio</th>\n",
       "      <th>elevator</th>\n",
       "      <th>fiveYearsProperty</th>\n",
       "      <th>subway</th>\n",
       "      <th>district</th>\n",
       "      <th>communityAverage</th>\n",
       "    </tr>\n",
       "  </thead>\n",
       "  <tbody>\n",
       "    <tr>\n",
       "      <th>180026</th>\n",
       "      <td>https://bj.lianjia.com/chengjiao/BJCY90771356....</td>\n",
       "      <td>BJCY90771356</td>\n",
       "      <td>116.460032</td>\n",
       "      <td>39.879667</td>\n",
       "      <td>1111027375352</td>\n",
       "      <td>2015-12-10</td>\n",
       "      <td>1.0</td>\n",
       "      <td>5</td>\n",
       "      <td>182.0</td>\n",
       "      <td>36628</td>\n",
       "      <td>...</td>\n",
       "      <td>4.0</td>\n",
       "      <td>1991</td>\n",
       "      <td>2</td>\n",
       "      <td>2</td>\n",
       "      <td>0.143</td>\n",
       "      <td>0.0</td>\n",
       "      <td>1.0</td>\n",
       "      <td>1.0</td>\n",
       "      <td>7</td>\n",
       "      <td>55722.0</td>\n",
       "    </tr>\n",
       "    <tr>\n",
       "      <th>160387</th>\n",
       "      <td>https://bj.lianjia.com/chengjiao/BJCY88648753....</td>\n",
       "      <td>BJCY88648753</td>\n",
       "      <td>116.477171</td>\n",
       "      <td>39.994969</td>\n",
       "      <td>1111027380260</td>\n",
       "      <td>2014-12-20</td>\n",
       "      <td>NaN</td>\n",
       "      <td>1</td>\n",
       "      <td>173.0</td>\n",
       "      <td>28724</td>\n",
       "      <td>...</td>\n",
       "      <td>4.0</td>\n",
       "      <td>1981</td>\n",
       "      <td>1</td>\n",
       "      <td>4</td>\n",
       "      <td>0.333</td>\n",
       "      <td>0.0</td>\n",
       "      <td>1.0</td>\n",
       "      <td>1.0</td>\n",
       "      <td>7</td>\n",
       "      <td>55784.0</td>\n",
       "    </tr>\n",
       "    <tr>\n",
       "      <th>194342</th>\n",
       "      <td>https://bj.lianjia.com/chengjiao/BJCY92166865....</td>\n",
       "      <td>BJCY92166865</td>\n",
       "      <td>116.476170</td>\n",
       "      <td>39.844869</td>\n",
       "      <td>1111027374856</td>\n",
       "      <td>2016-05-21</td>\n",
       "      <td>1.0</td>\n",
       "      <td>7</td>\n",
       "      <td>385.0</td>\n",
       "      <td>34713</td>\n",
       "      <td>...</td>\n",
       "      <td>1.0</td>\n",
       "      <td>2004</td>\n",
       "      <td>4</td>\n",
       "      <td>6</td>\n",
       "      <td>0.333</td>\n",
       "      <td>1.0</td>\n",
       "      <td>1.0</td>\n",
       "      <td>0.0</td>\n",
       "      <td>7</td>\n",
       "      <td>46867.0</td>\n",
       "    </tr>\n",
       "    <tr>\n",
       "      <th>256501</th>\n",
       "      <td>https://bj.lianjia.com/chengjiao/BJHD88751393....</td>\n",
       "      <td>BJHD88751393</td>\n",
       "      <td>116.271746</td>\n",
       "      <td>40.058040</td>\n",
       "      <td>1111046364973</td>\n",
       "      <td>2015-01-24</td>\n",
       "      <td>NaN</td>\n",
       "      <td>5</td>\n",
       "      <td>320.0</td>\n",
       "      <td>42061</td>\n",
       "      <td>...</td>\n",
       "      <td>4.0</td>\n",
       "      <td>2004</td>\n",
       "      <td>4</td>\n",
       "      <td>2</td>\n",
       "      <td>0.333</td>\n",
       "      <td>0.0</td>\n",
       "      <td>1.0</td>\n",
       "      <td>1.0</td>\n",
       "      <td>8</td>\n",
       "      <td>76826.0</td>\n",
       "    </tr>\n",
       "    <tr>\n",
       "      <th>21809</th>\n",
       "      <td>https://bj.lianjia.com/chengjiao/101100338367....</td>\n",
       "      <td>101100338367</td>\n",
       "      <td>116.330198</td>\n",
       "      <td>40.074228</td>\n",
       "      <td>1111027381003</td>\n",
       "      <td>2016-09-13</td>\n",
       "      <td>54.0</td>\n",
       "      <td>53</td>\n",
       "      <td>535.0</td>\n",
       "      <td>54962</td>\n",
       "      <td>...</td>\n",
       "      <td>4.0</td>\n",
       "      <td>2006</td>\n",
       "      <td>4</td>\n",
       "      <td>6</td>\n",
       "      <td>0.500</td>\n",
       "      <td>1.0</td>\n",
       "      <td>1.0</td>\n",
       "      <td>1.0</td>\n",
       "      <td>6</td>\n",
       "      <td>50205.0</td>\n",
       "    </tr>\n",
       "  </tbody>\n",
       "</table>\n",
       "<p>5 rows × 26 columns</p>\n",
       "</div>"
      ],
      "text/plain": [
       "                                                      url            id  \\\n",
       "180026  https://bj.lianjia.com/chengjiao/BJCY90771356....  BJCY90771356   \n",
       "160387  https://bj.lianjia.com/chengjiao/BJCY88648753....  BJCY88648753   \n",
       "194342  https://bj.lianjia.com/chengjiao/BJCY92166865....  BJCY92166865   \n",
       "256501  https://bj.lianjia.com/chengjiao/BJHD88751393....  BJHD88751393   \n",
       "21809   https://bj.lianjia.com/chengjiao/101100338367....  101100338367   \n",
       "\n",
       "               Lng        Lat            Cid   tradeTime   DOM  followers  \\\n",
       "180026  116.460032  39.879667  1111027375352  2015-12-10   1.0          5   \n",
       "160387  116.477171  39.994969  1111027380260  2014-12-20   NaN          1   \n",
       "194342  116.476170  39.844869  1111027374856  2016-05-21   1.0          7   \n",
       "256501  116.271746  40.058040  1111046364973  2015-01-24   NaN          5   \n",
       "21809   116.330198  40.074228  1111027381003  2016-09-13  54.0         53   \n",
       "\n",
       "        totalPrice  price  ...  buildingType constructionTime  \\\n",
       "180026       182.0  36628  ...           4.0             1991   \n",
       "160387       173.0  28724  ...           4.0             1981   \n",
       "194342       385.0  34713  ...           1.0             2004   \n",
       "256501       320.0  42061  ...           4.0             2004   \n",
       "21809        535.0  54962  ...           4.0             2006   \n",
       "\n",
       "       renovationCondition  buildingStructure ladderRatio elevator  \\\n",
       "180026                   2                  2       0.143      0.0   \n",
       "160387                   1                  4       0.333      0.0   \n",
       "194342                   4                  6       0.333      1.0   \n",
       "256501                   4                  2       0.333      0.0   \n",
       "21809                    4                  6       0.500      1.0   \n",
       "\n",
       "        fiveYearsProperty subway  district  communityAverage  \n",
       "180026                1.0    1.0         7           55722.0  \n",
       "160387                1.0    1.0         7           55784.0  \n",
       "194342                1.0    0.0         7           46867.0  \n",
       "256501                1.0    1.0         8           76826.0  \n",
       "21809                 1.0    1.0         6           50205.0  \n",
       "\n",
       "[5 rows x 26 columns]"
      ]
     },
     "execution_count": 3,
     "metadata": {},
     "output_type": "execute_result"
    }
   ],
   "source": [
    "data.head()"
   ]
  },
  {
   "cell_type": "code",
   "execution_count": 4,
   "id": "8f40aba1",
   "metadata": {},
   "outputs": [
    {
     "name": "stdout",
     "output_type": "stream",
     "text": [
      "<class 'pandas.core.frame.DataFrame'>\n",
      "Index: 63770 entries, 180026 to 245294\n",
      "Data columns (total 26 columns):\n",
      " #   Column               Non-Null Count  Dtype  \n",
      "---  ------               --------------  -----  \n",
      " 0   url                  63770 non-null  object \n",
      " 1   id                   63770 non-null  object \n",
      " 2   Lng                  63770 non-null  float64\n",
      " 3   Lat                  63770 non-null  float64\n",
      " 4   Cid                  63770 non-null  int64  \n",
      " 5   tradeTime            63770 non-null  object \n",
      " 6   DOM                  32286 non-null  float64\n",
      " 7   followers            63770 non-null  int64  \n",
      " 8   totalPrice           63770 non-null  float64\n",
      " 9   price                63770 non-null  int64  \n",
      " 10  square               63770 non-null  float64\n",
      " 11  livingRoom           63770 non-null  object \n",
      " 12  drawingRoom          63770 non-null  object \n",
      " 13  kitchen              63770 non-null  int64  \n",
      " 14  bathRoom             63770 non-null  object \n",
      " 15  floor                63770 non-null  object \n",
      " 16  buildingType         63361 non-null  float64\n",
      " 17  constructionTime     63770 non-null  object \n",
      " 18  renovationCondition  63770 non-null  int64  \n",
      " 19  buildingStructure    63770 non-null  int64  \n",
      " 20  ladderRatio          63770 non-null  float64\n",
      " 21  elevator             63763 non-null  float64\n",
      " 22  fiveYearsProperty    63763 non-null  float64\n",
      " 23  subway               63763 non-null  float64\n",
      " 24  district             63770 non-null  int64  \n",
      " 25  communityAverage     63682 non-null  float64\n",
      "dtypes: float64(11), int64(7), object(8)\n",
      "memory usage: 13.1+ MB\n"
     ]
    }
   ],
   "source": [
    "data.info()"
   ]
  },
  {
   "cell_type": "code",
   "execution_count": 5,
   "id": "d820f69c",
   "metadata": {},
   "outputs": [],
   "source": [
    "extr = data[\"tradeTime\"].str.extract(r\"^(\\d{4})\", expand=False)"
   ]
  },
  {
   "cell_type": "code",
   "execution_count": 6,
   "id": "3bb7dfd5",
   "metadata": {},
   "outputs": [
    {
     "data": {
      "text/plain": [
       "180026    2015\n",
       "160387    2014\n",
       "194342    2016\n",
       "256501    2015\n",
       "21809     2016\n",
       "116363    2016\n",
       "288846    2014\n",
       "61991     2017\n",
       "420       2016\n",
       "222023    2011\n",
       "Name: tradeTime, dtype: object"
      ]
     },
     "execution_count": 6,
     "metadata": {},
     "output_type": "execute_result"
    }
   ],
   "source": [
    "extr.head(10)"
   ]
  },
  {
   "cell_type": "code",
   "execution_count": 7,
   "id": "e0f1b225",
   "metadata": {},
   "outputs": [],
   "source": [
    "data[\"tradeTime\"]=pd.to_numeric(extr)"
   ]
  },
  {
   "cell_type": "code",
   "execution_count": 8,
   "id": "31c8685c",
   "metadata": {},
   "outputs": [
    {
     "data": {
      "text/html": [
       "<div>\n",
       "<style scoped>\n",
       "    .dataframe tbody tr th:only-of-type {\n",
       "        vertical-align: middle;\n",
       "    }\n",
       "\n",
       "    .dataframe tbody tr th {\n",
       "        vertical-align: top;\n",
       "    }\n",
       "\n",
       "    .dataframe thead th {\n",
       "        text-align: right;\n",
       "    }\n",
       "</style>\n",
       "<table border=\"1\" class=\"dataframe\">\n",
       "  <thead>\n",
       "    <tr style=\"text-align: right;\">\n",
       "      <th></th>\n",
       "      <th>url</th>\n",
       "      <th>id</th>\n",
       "      <th>Lng</th>\n",
       "      <th>Lat</th>\n",
       "      <th>Cid</th>\n",
       "      <th>tradeTime</th>\n",
       "      <th>DOM</th>\n",
       "      <th>followers</th>\n",
       "      <th>totalPrice</th>\n",
       "      <th>price</th>\n",
       "      <th>...</th>\n",
       "      <th>buildingType</th>\n",
       "      <th>constructionTime</th>\n",
       "      <th>renovationCondition</th>\n",
       "      <th>buildingStructure</th>\n",
       "      <th>ladderRatio</th>\n",
       "      <th>elevator</th>\n",
       "      <th>fiveYearsProperty</th>\n",
       "      <th>subway</th>\n",
       "      <th>district</th>\n",
       "      <th>communityAverage</th>\n",
       "    </tr>\n",
       "  </thead>\n",
       "  <tbody>\n",
       "    <tr>\n",
       "      <th>180026</th>\n",
       "      <td>https://bj.lianjia.com/chengjiao/BJCY90771356....</td>\n",
       "      <td>BJCY90771356</td>\n",
       "      <td>116.460032</td>\n",
       "      <td>39.879667</td>\n",
       "      <td>1111027375352</td>\n",
       "      <td>2015</td>\n",
       "      <td>1.0</td>\n",
       "      <td>5</td>\n",
       "      <td>182.0</td>\n",
       "      <td>36628</td>\n",
       "      <td>...</td>\n",
       "      <td>4.0</td>\n",
       "      <td>1991</td>\n",
       "      <td>2</td>\n",
       "      <td>2</td>\n",
       "      <td>0.143</td>\n",
       "      <td>0.0</td>\n",
       "      <td>1.0</td>\n",
       "      <td>1.0</td>\n",
       "      <td>7</td>\n",
       "      <td>55722.0</td>\n",
       "    </tr>\n",
       "    <tr>\n",
       "      <th>160387</th>\n",
       "      <td>https://bj.lianjia.com/chengjiao/BJCY88648753....</td>\n",
       "      <td>BJCY88648753</td>\n",
       "      <td>116.477171</td>\n",
       "      <td>39.994969</td>\n",
       "      <td>1111027380260</td>\n",
       "      <td>2014</td>\n",
       "      <td>NaN</td>\n",
       "      <td>1</td>\n",
       "      <td>173.0</td>\n",
       "      <td>28724</td>\n",
       "      <td>...</td>\n",
       "      <td>4.0</td>\n",
       "      <td>1981</td>\n",
       "      <td>1</td>\n",
       "      <td>4</td>\n",
       "      <td>0.333</td>\n",
       "      <td>0.0</td>\n",
       "      <td>1.0</td>\n",
       "      <td>1.0</td>\n",
       "      <td>7</td>\n",
       "      <td>55784.0</td>\n",
       "    </tr>\n",
       "    <tr>\n",
       "      <th>194342</th>\n",
       "      <td>https://bj.lianjia.com/chengjiao/BJCY92166865....</td>\n",
       "      <td>BJCY92166865</td>\n",
       "      <td>116.476170</td>\n",
       "      <td>39.844869</td>\n",
       "      <td>1111027374856</td>\n",
       "      <td>2016</td>\n",
       "      <td>1.0</td>\n",
       "      <td>7</td>\n",
       "      <td>385.0</td>\n",
       "      <td>34713</td>\n",
       "      <td>...</td>\n",
       "      <td>1.0</td>\n",
       "      <td>2004</td>\n",
       "      <td>4</td>\n",
       "      <td>6</td>\n",
       "      <td>0.333</td>\n",
       "      <td>1.0</td>\n",
       "      <td>1.0</td>\n",
       "      <td>0.0</td>\n",
       "      <td>7</td>\n",
       "      <td>46867.0</td>\n",
       "    </tr>\n",
       "    <tr>\n",
       "      <th>256501</th>\n",
       "      <td>https://bj.lianjia.com/chengjiao/BJHD88751393....</td>\n",
       "      <td>BJHD88751393</td>\n",
       "      <td>116.271746</td>\n",
       "      <td>40.058040</td>\n",
       "      <td>1111046364973</td>\n",
       "      <td>2015</td>\n",
       "      <td>NaN</td>\n",
       "      <td>5</td>\n",
       "      <td>320.0</td>\n",
       "      <td>42061</td>\n",
       "      <td>...</td>\n",
       "      <td>4.0</td>\n",
       "      <td>2004</td>\n",
       "      <td>4</td>\n",
       "      <td>2</td>\n",
       "      <td>0.333</td>\n",
       "      <td>0.0</td>\n",
       "      <td>1.0</td>\n",
       "      <td>1.0</td>\n",
       "      <td>8</td>\n",
       "      <td>76826.0</td>\n",
       "    </tr>\n",
       "    <tr>\n",
       "      <th>21809</th>\n",
       "      <td>https://bj.lianjia.com/chengjiao/101100338367....</td>\n",
       "      <td>101100338367</td>\n",
       "      <td>116.330198</td>\n",
       "      <td>40.074228</td>\n",
       "      <td>1111027381003</td>\n",
       "      <td>2016</td>\n",
       "      <td>54.0</td>\n",
       "      <td>53</td>\n",
       "      <td>535.0</td>\n",
       "      <td>54962</td>\n",
       "      <td>...</td>\n",
       "      <td>4.0</td>\n",
       "      <td>2006</td>\n",
       "      <td>4</td>\n",
       "      <td>6</td>\n",
       "      <td>0.500</td>\n",
       "      <td>1.0</td>\n",
       "      <td>1.0</td>\n",
       "      <td>1.0</td>\n",
       "      <td>6</td>\n",
       "      <td>50205.0</td>\n",
       "    </tr>\n",
       "  </tbody>\n",
       "</table>\n",
       "<p>5 rows × 26 columns</p>\n",
       "</div>"
      ],
      "text/plain": [
       "                                                      url            id  \\\n",
       "180026  https://bj.lianjia.com/chengjiao/BJCY90771356....  BJCY90771356   \n",
       "160387  https://bj.lianjia.com/chengjiao/BJCY88648753....  BJCY88648753   \n",
       "194342  https://bj.lianjia.com/chengjiao/BJCY92166865....  BJCY92166865   \n",
       "256501  https://bj.lianjia.com/chengjiao/BJHD88751393....  BJHD88751393   \n",
       "21809   https://bj.lianjia.com/chengjiao/101100338367....  101100338367   \n",
       "\n",
       "               Lng        Lat            Cid  tradeTime   DOM  followers  \\\n",
       "180026  116.460032  39.879667  1111027375352       2015   1.0          5   \n",
       "160387  116.477171  39.994969  1111027380260       2014   NaN          1   \n",
       "194342  116.476170  39.844869  1111027374856       2016   1.0          7   \n",
       "256501  116.271746  40.058040  1111046364973       2015   NaN          5   \n",
       "21809   116.330198  40.074228  1111027381003       2016  54.0         53   \n",
       "\n",
       "        totalPrice  price  ...  buildingType constructionTime  \\\n",
       "180026       182.0  36628  ...           4.0             1991   \n",
       "160387       173.0  28724  ...           4.0             1981   \n",
       "194342       385.0  34713  ...           1.0             2004   \n",
       "256501       320.0  42061  ...           4.0             2004   \n",
       "21809        535.0  54962  ...           4.0             2006   \n",
       "\n",
       "       renovationCondition  buildingStructure ladderRatio elevator  \\\n",
       "180026                   2                  2       0.143      0.0   \n",
       "160387                   1                  4       0.333      0.0   \n",
       "194342                   4                  6       0.333      1.0   \n",
       "256501                   4                  2       0.333      0.0   \n",
       "21809                    4                  6       0.500      1.0   \n",
       "\n",
       "        fiveYearsProperty subway  district  communityAverage  \n",
       "180026                1.0    1.0         7           55722.0  \n",
       "160387                1.0    1.0         7           55784.0  \n",
       "194342                1.0    0.0         7           46867.0  \n",
       "256501                1.0    1.0         8           76826.0  \n",
       "21809                 1.0    1.0         6           50205.0  \n",
       "\n",
       "[5 rows x 26 columns]"
      ]
     },
     "execution_count": 8,
     "metadata": {},
     "output_type": "execute_result"
    }
   ],
   "source": [
    "data.head()"
   ]
  },
  {
   "cell_type": "code",
   "execution_count": 9,
   "id": "03363925",
   "metadata": {},
   "outputs": [
    {
     "name": "stdout",
     "output_type": "stream",
     "text": [
      "<class 'pandas.core.frame.DataFrame'>\n",
      "Index: 63770 entries, 180026 to 245294\n",
      "Data columns (total 26 columns):\n",
      " #   Column               Non-Null Count  Dtype  \n",
      "---  ------               --------------  -----  \n",
      " 0   url                  63770 non-null  object \n",
      " 1   id                   63770 non-null  object \n",
      " 2   Lng                  63770 non-null  float64\n",
      " 3   Lat                  63770 non-null  float64\n",
      " 4   Cid                  63770 non-null  int64  \n",
      " 5   tradeTime            63770 non-null  int64  \n",
      " 6   DOM                  32286 non-null  float64\n",
      " 7   followers            63770 non-null  int64  \n",
      " 8   totalPrice           63770 non-null  float64\n",
      " 9   price                63770 non-null  int64  \n",
      " 10  square               63770 non-null  float64\n",
      " 11  livingRoom           63770 non-null  object \n",
      " 12  drawingRoom          63770 non-null  object \n",
      " 13  kitchen              63770 non-null  int64  \n",
      " 14  bathRoom             63770 non-null  object \n",
      " 15  floor                63770 non-null  object \n",
      " 16  buildingType         63361 non-null  float64\n",
      " 17  constructionTime     63770 non-null  object \n",
      " 18  renovationCondition  63770 non-null  int64  \n",
      " 19  buildingStructure    63770 non-null  int64  \n",
      " 20  ladderRatio          63770 non-null  float64\n",
      " 21  elevator             63763 non-null  float64\n",
      " 22  fiveYearsProperty    63763 non-null  float64\n",
      " 23  subway               63763 non-null  float64\n",
      " 24  district             63770 non-null  int64  \n",
      " 25  communityAverage     63682 non-null  float64\n",
      "dtypes: float64(11), int64(8), object(7)\n",
      "memory usage: 13.1+ MB\n"
     ]
    }
   ],
   "source": [
    "data.info()"
   ]
  },
  {
   "cell_type": "code",
   "execution_count": 10,
   "id": "b649f29b",
   "metadata": {},
   "outputs": [
    {
     "data": {
      "text/plain": [
       "(63770, 26)"
      ]
     },
     "execution_count": 10,
     "metadata": {},
     "output_type": "execute_result"
    }
   ],
   "source": [
    "data.shape"
   ]
  },
  {
   "cell_type": "code",
   "execution_count": 11,
   "id": "394f8ba7",
   "metadata": {},
   "outputs": [
    {
     "data": {
      "text/html": [
       "<div>\n",
       "<style scoped>\n",
       "    .dataframe tbody tr th:only-of-type {\n",
       "        vertical-align: middle;\n",
       "    }\n",
       "\n",
       "    .dataframe tbody tr th {\n",
       "        vertical-align: top;\n",
       "    }\n",
       "\n",
       "    .dataframe thead th {\n",
       "        text-align: right;\n",
       "    }\n",
       "</style>\n",
       "<table border=\"1\" class=\"dataframe\">\n",
       "  <thead>\n",
       "    <tr style=\"text-align: right;\">\n",
       "      <th></th>\n",
       "      <th>Lng</th>\n",
       "      <th>Lat</th>\n",
       "      <th>Cid</th>\n",
       "      <th>tradeTime</th>\n",
       "      <th>DOM</th>\n",
       "      <th>followers</th>\n",
       "      <th>totalPrice</th>\n",
       "      <th>price</th>\n",
       "      <th>square</th>\n",
       "      <th>kitchen</th>\n",
       "      <th>buildingType</th>\n",
       "      <th>renovationCondition</th>\n",
       "      <th>buildingStructure</th>\n",
       "      <th>ladderRatio</th>\n",
       "      <th>elevator</th>\n",
       "      <th>fiveYearsProperty</th>\n",
       "      <th>subway</th>\n",
       "      <th>district</th>\n",
       "      <th>communityAverage</th>\n",
       "    </tr>\n",
       "  </thead>\n",
       "  <tbody>\n",
       "    <tr>\n",
       "      <th>count</th>\n",
       "      <td>63770.000000</td>\n",
       "      <td>63770.000000</td>\n",
       "      <td>6.377000e+04</td>\n",
       "      <td>63770.000000</td>\n",
       "      <td>32286.000000</td>\n",
       "      <td>63770.000000</td>\n",
       "      <td>63770.000000</td>\n",
       "      <td>63770.000000</td>\n",
       "      <td>63770.000000</td>\n",
       "      <td>63770.000000</td>\n",
       "      <td>63361.000000</td>\n",
       "      <td>63770.000000</td>\n",
       "      <td>63770.000000</td>\n",
       "      <td>63770.000000</td>\n",
       "      <td>63763.000000</td>\n",
       "      <td>63763.000000</td>\n",
       "      <td>63763.000000</td>\n",
       "      <td>63770.000000</td>\n",
       "      <td>63682.000000</td>\n",
       "    </tr>\n",
       "    <tr>\n",
       "      <th>mean</th>\n",
       "      <td>116.418837</td>\n",
       "      <td>39.949504</td>\n",
       "      <td>1.125599e+12</td>\n",
       "      <td>2014.790779</td>\n",
       "      <td>28.801710</td>\n",
       "      <td>16.673796</td>\n",
       "      <td>350.599034</td>\n",
       "      <td>43652.215148</td>\n",
       "      <td>83.240276</td>\n",
       "      <td>0.994653</td>\n",
       "      <td>3.007824</td>\n",
       "      <td>2.612812</td>\n",
       "      <td>4.449757</td>\n",
       "      <td>0.380365</td>\n",
       "      <td>0.576651</td>\n",
       "      <td>0.644778</td>\n",
       "      <td>0.602748</td>\n",
       "      <td>6.763713</td>\n",
       "      <td>63791.068638</td>\n",
       "    </tr>\n",
       "    <tr>\n",
       "      <th>std</th>\n",
       "      <td>0.112036</td>\n",
       "      <td>0.091700</td>\n",
       "      <td>1.300829e+12</td>\n",
       "      <td>1.653653</td>\n",
       "      <td>50.746731</td>\n",
       "      <td>33.642349</td>\n",
       "      <td>241.013478</td>\n",
       "      <td>21720.232888</td>\n",
       "      <td>37.599366</td>\n",
       "      <td>0.110538</td>\n",
       "      <td>1.271222</td>\n",
       "      <td>1.310377</td>\n",
       "      <td>1.900988</td>\n",
       "      <td>0.177048</td>\n",
       "      <td>0.494094</td>\n",
       "      <td>0.478584</td>\n",
       "      <td>0.489333</td>\n",
       "      <td>2.820281</td>\n",
       "      <td>22333.363688</td>\n",
       "    </tr>\n",
       "    <tr>\n",
       "      <th>min</th>\n",
       "      <td>116.072514</td>\n",
       "      <td>39.627030</td>\n",
       "      <td>1.111027e+12</td>\n",
       "      <td>2002.000000</td>\n",
       "      <td>1.000000</td>\n",
       "      <td>0.000000</td>\n",
       "      <td>0.100000</td>\n",
       "      <td>1.000000</td>\n",
       "      <td>7.500000</td>\n",
       "      <td>0.000000</td>\n",
       "      <td>0.048000</td>\n",
       "      <td>0.000000</td>\n",
       "      <td>0.000000</td>\n",
       "      <td>0.000000</td>\n",
       "      <td>0.000000</td>\n",
       "      <td>0.000000</td>\n",
       "      <td>0.000000</td>\n",
       "      <td>1.000000</td>\n",
       "      <td>14773.000000</td>\n",
       "    </tr>\n",
       "    <tr>\n",
       "      <th>25%</th>\n",
       "      <td>116.344985</td>\n",
       "      <td>39.893373</td>\n",
       "      <td>1.111027e+12</td>\n",
       "      <td>2013.000000</td>\n",
       "      <td>1.000000</td>\n",
       "      <td>0.000000</td>\n",
       "      <td>205.000000</td>\n",
       "      <td>28072.000000</td>\n",
       "      <td>57.910000</td>\n",
       "      <td>1.000000</td>\n",
       "      <td>1.000000</td>\n",
       "      <td>1.000000</td>\n",
       "      <td>2.000000</td>\n",
       "      <td>0.250000</td>\n",
       "      <td>0.000000</td>\n",
       "      <td>0.000000</td>\n",
       "      <td>0.000000</td>\n",
       "      <td>6.000000</td>\n",
       "      <td>46335.000000</td>\n",
       "    </tr>\n",
       "    <tr>\n",
       "      <th>50%</th>\n",
       "      <td>116.416780</td>\n",
       "      <td>39.934532</td>\n",
       "      <td>1.111027e+12</td>\n",
       "      <td>2015.000000</td>\n",
       "      <td>6.000000</td>\n",
       "      <td>5.000000</td>\n",
       "      <td>295.000000</td>\n",
       "      <td>38939.500000</td>\n",
       "      <td>74.300000</td>\n",
       "      <td>1.000000</td>\n",
       "      <td>4.000000</td>\n",
       "      <td>3.000000</td>\n",
       "      <td>6.000000</td>\n",
       "      <td>0.333000</td>\n",
       "      <td>1.000000</td>\n",
       "      <td>1.000000</td>\n",
       "      <td>1.000000</td>\n",
       "      <td>7.000000</td>\n",
       "      <td>59179.000000</td>\n",
       "    </tr>\n",
       "    <tr>\n",
       "      <th>75%</th>\n",
       "      <td>116.477730</td>\n",
       "      <td>40.002450</td>\n",
       "      <td>1.111027e+12</td>\n",
       "      <td>2016.000000</td>\n",
       "      <td>37.000000</td>\n",
       "      <td>18.000000</td>\n",
       "      <td>428.000000</td>\n",
       "      <td>53912.500000</td>\n",
       "      <td>98.757500</td>\n",
       "      <td>1.000000</td>\n",
       "      <td>4.000000</td>\n",
       "      <td>4.000000</td>\n",
       "      <td>6.000000</td>\n",
       "      <td>0.500000</td>\n",
       "      <td>1.000000</td>\n",
       "      <td>1.000000</td>\n",
       "      <td>1.000000</td>\n",
       "      <td>8.000000</td>\n",
       "      <td>76292.000000</td>\n",
       "    </tr>\n",
       "    <tr>\n",
       "      <th>max</th>\n",
       "      <td>116.732378</td>\n",
       "      <td>40.252758</td>\n",
       "      <td>1.184867e+14</td>\n",
       "      <td>2018.000000</td>\n",
       "      <td>1677.000000</td>\n",
       "      <td>1143.000000</td>\n",
       "      <td>18130.000000</td>\n",
       "      <td>149967.000000</td>\n",
       "      <td>1745.500000</td>\n",
       "      <td>4.000000</td>\n",
       "      <td>4.000000</td>\n",
       "      <td>4.000000</td>\n",
       "      <td>6.000000</td>\n",
       "      <td>3.333000</td>\n",
       "      <td>1.000000</td>\n",
       "      <td>1.000000</td>\n",
       "      <td>1.000000</td>\n",
       "      <td>13.000000</td>\n",
       "      <td>183109.000000</td>\n",
       "    </tr>\n",
       "  </tbody>\n",
       "</table>\n",
       "</div>"
      ],
      "text/plain": [
       "                Lng           Lat           Cid     tradeTime           DOM  \\\n",
       "count  63770.000000  63770.000000  6.377000e+04  63770.000000  32286.000000   \n",
       "mean     116.418837     39.949504  1.125599e+12   2014.790779     28.801710   \n",
       "std        0.112036      0.091700  1.300829e+12      1.653653     50.746731   \n",
       "min      116.072514     39.627030  1.111027e+12   2002.000000      1.000000   \n",
       "25%      116.344985     39.893373  1.111027e+12   2013.000000      1.000000   \n",
       "50%      116.416780     39.934532  1.111027e+12   2015.000000      6.000000   \n",
       "75%      116.477730     40.002450  1.111027e+12   2016.000000     37.000000   \n",
       "max      116.732378     40.252758  1.184867e+14   2018.000000   1677.000000   \n",
       "\n",
       "          followers    totalPrice          price        square       kitchen  \\\n",
       "count  63770.000000  63770.000000   63770.000000  63770.000000  63770.000000   \n",
       "mean      16.673796    350.599034   43652.215148     83.240276      0.994653   \n",
       "std       33.642349    241.013478   21720.232888     37.599366      0.110538   \n",
       "min        0.000000      0.100000       1.000000      7.500000      0.000000   \n",
       "25%        0.000000    205.000000   28072.000000     57.910000      1.000000   \n",
       "50%        5.000000    295.000000   38939.500000     74.300000      1.000000   \n",
       "75%       18.000000    428.000000   53912.500000     98.757500      1.000000   \n",
       "max     1143.000000  18130.000000  149967.000000   1745.500000      4.000000   \n",
       "\n",
       "       buildingType  renovationCondition  buildingStructure   ladderRatio  \\\n",
       "count  63361.000000         63770.000000       63770.000000  63770.000000   \n",
       "mean       3.007824             2.612812           4.449757      0.380365   \n",
       "std        1.271222             1.310377           1.900988      0.177048   \n",
       "min        0.048000             0.000000           0.000000      0.000000   \n",
       "25%        1.000000             1.000000           2.000000      0.250000   \n",
       "50%        4.000000             3.000000           6.000000      0.333000   \n",
       "75%        4.000000             4.000000           6.000000      0.500000   \n",
       "max        4.000000             4.000000           6.000000      3.333000   \n",
       "\n",
       "           elevator  fiveYearsProperty        subway      district  \\\n",
       "count  63763.000000       63763.000000  63763.000000  63770.000000   \n",
       "mean       0.576651           0.644778      0.602748      6.763713   \n",
       "std        0.494094           0.478584      0.489333      2.820281   \n",
       "min        0.000000           0.000000      0.000000      1.000000   \n",
       "25%        0.000000           0.000000      0.000000      6.000000   \n",
       "50%        1.000000           1.000000      1.000000      7.000000   \n",
       "75%        1.000000           1.000000      1.000000      8.000000   \n",
       "max        1.000000           1.000000      1.000000     13.000000   \n",
       "\n",
       "       communityAverage  \n",
       "count      63682.000000  \n",
       "mean       63791.068638  \n",
       "std        22333.363688  \n",
       "min        14773.000000  \n",
       "25%        46335.000000  \n",
       "50%        59179.000000  \n",
       "75%        76292.000000  \n",
       "max       183109.000000  "
      ]
     },
     "execution_count": 11,
     "metadata": {},
     "output_type": "execute_result"
    }
   ],
   "source": [
    "data.describe()"
   ]
  },
  {
   "cell_type": "markdown",
   "id": "8c50c8a1",
   "metadata": {},
   "source": [
    "# Preprocesing the data"
   ]
  },
  {
   "cell_type": "markdown",
   "id": "7d6f6ce6",
   "metadata": {},
   "source": [
    "### Dropping irrelevant features\n",
    "\n",
    "Some features are logicaly irrelevants to the independant variable such as: id, url and floor therefore we drop them"
   ]
  },
  {
   "cell_type": "code",
   "execution_count": 12,
   "id": "db540a7a",
   "metadata": {},
   "outputs": [],
   "source": [
    "data.drop(['id', 'url', 'floor'], axis=1, inplace=True)"
   ]
  },
  {
   "cell_type": "markdown",
   "id": "62794b54",
   "metadata": {},
   "source": [
    "### Dropping rows with missed Prices (target variable)"
   ]
  },
  {
   "cell_type": "code",
   "execution_count": 13,
   "id": "e6e32457",
   "metadata": {},
   "outputs": [],
   "source": [
    "data.dropna(subset=['price'], inplace=True)"
   ]
  },
  {
   "cell_type": "markdown",
   "id": "6cbf6267",
   "metadata": {},
   "source": [
    "# Calculate the number of missing values per variable"
   ]
  },
  {
   "cell_type": "code",
   "execution_count": 14,
   "id": "e485c595",
   "metadata": {},
   "outputs": [],
   "source": [
    "missing_counts = data.isna().sum()\n",
    "missing_df = pd.DataFrame({'Variable': missing_counts.index, 'Value': missing_counts.values})\n",
    "missing_df = missing_df[missing_df['Value'] > 0]\n",
    "missing_df['Percentage'] = missing_df['Value'] / len(data)\n",
    "missing_df = missing_df.sort_values(by='Percentage', ascending=False)"
   ]
  },
  {
   "cell_type": "markdown",
   "id": "9d09fd96",
   "metadata": {},
   "source": [
    "# Missing values graph"
   ]
  },
  {
   "cell_type": "code",
   "execution_count": 15,
   "id": "d665bdec",
   "metadata": {
    "scrolled": true
   },
   "outputs": [
    {
     "data": {
      "image/png": "[encoded data removed]",
      "text/plain": [
       "<Figure size 1000x300 with 1 Axes>"
      ]
     },
     "metadata": {},
     "output_type": "display_data"
    }
   ],
   "source": [
    "plt.figure(figsize=(10, 3))\n",
    "plt.barh(missing_df['Variable'], missing_df['Percentage'], color='green')\n",
    "plt.xlabel('Percentage of Missing Values')\n",
    "plt.ylabel('Variable')\n",
    "plt.title('Missing Data by Variable')\n",
    "plt.show()"
   ]
  },
  {
   "cell_type": "code",
   "execution_count": 17,
   "id": "076331e9",
   "metadata": {},
   "outputs": [
    {
     "name": "stderr",
     "output_type": "stream",
     "text": [
      "C:\\Users\\monte\\AppData\\Local\\Temp\\ipykernel_9676\\4082449589.py:2: DtypeWarning: Columns (1,11,12) have mixed types. Specify dtype option on import or set low_memory=False.\n",
      "  data = pd.read_csv('housing.csv', na_values=missing_value_formats, encoding='latin1')\n"
     ]
    }
   ],
   "source": [
    "missing_value_formats = [\"?\", \"NA\", \"Na\", \"NaN.\", \".NaN\", \"NaN\", \"nA\", \"na\", \"n.a\", \"n.a.\", \"Î´Öª\", \".n.a\", \"n/a\", \"nan\", \"--\", \"UnKnown\"]\n",
    "data = pd.read_csv('housing.csv', na_values=missing_value_formats, encoding='latin1')"
   ]
  },
  {
   "cell_type": "markdown",
   "id": "f8ee36e1",
   "metadata": {},
   "source": [
    "I want to better understand the distribution of the data in the 'buildingType', 'communityAverage', 'constructionTime'column,\n",
    "identify possible outliers, evaluate if the variability of the mean is significantly greater than the median, \n",
    "and check if the standard deviation is high."
   ]
  },
  {
   "cell_type": "code",
   "execution_count": 18,
   "id": "6a4ba5df",
   "metadata": {},
   "outputs": [
    {
     "data": {
      "text/html": [
       "<div>\n",
       "<style scoped>\n",
       "    .dataframe tbody tr th:only-of-type {\n",
       "        vertical-align: middle;\n",
       "    }\n",
       "\n",
       "    .dataframe tbody tr th {\n",
       "        vertical-align: top;\n",
       "    }\n",
       "\n",
       "    .dataframe thead th {\n",
       "        text-align: right;\n",
       "    }\n",
       "</style>\n",
       "<table border=\"1\" class=\"dataframe\">\n",
       "  <thead>\n",
       "    <tr style=\"text-align: right;\">\n",
       "      <th></th>\n",
       "      <th>DOM</th>\n",
       "      <th>buildingType</th>\n",
       "      <th>communityAverage</th>\n",
       "      <th>constructionTime</th>\n",
       "    </tr>\n",
       "  </thead>\n",
       "  <tbody>\n",
       "    <tr>\n",
       "      <th>count</th>\n",
       "      <td>160874.000000</td>\n",
       "      <td>316830.000000</td>\n",
       "      <td>318388.000000</td>\n",
       "      <td>299568.000000</td>\n",
       "    </tr>\n",
       "    <tr>\n",
       "      <th>mean</th>\n",
       "      <td>28.822339</td>\n",
       "      <td>3.009790</td>\n",
       "      <td>63682.446305</td>\n",
       "      <td>1999.002517</td>\n",
       "    </tr>\n",
       "    <tr>\n",
       "      <th>std</th>\n",
       "      <td>50.237343</td>\n",
       "      <td>1.269857</td>\n",
       "      <td>22329.215447</td>\n",
       "      <td>22.443793</td>\n",
       "    </tr>\n",
       "    <tr>\n",
       "      <th>min</th>\n",
       "      <td>1.000000</td>\n",
       "      <td>0.048000</td>\n",
       "      <td>10847.000000</td>\n",
       "      <td>0.000000</td>\n",
       "    </tr>\n",
       "    <tr>\n",
       "      <th>25%</th>\n",
       "      <td>1.000000</td>\n",
       "      <td>1.000000</td>\n",
       "      <td>46339.000000</td>\n",
       "      <td>1994.000000</td>\n",
       "    </tr>\n",
       "    <tr>\n",
       "      <th>50%</th>\n",
       "      <td>6.000000</td>\n",
       "      <td>4.000000</td>\n",
       "      <td>59015.000000</td>\n",
       "      <td>2001.000000</td>\n",
       "    </tr>\n",
       "    <tr>\n",
       "      <th>75%</th>\n",
       "      <td>37.000000</td>\n",
       "      <td>4.000000</td>\n",
       "      <td>75950.000000</td>\n",
       "      <td>2006.000000</td>\n",
       "    </tr>\n",
       "    <tr>\n",
       "      <th>max</th>\n",
       "      <td>1677.000000</td>\n",
       "      <td>4.000000</td>\n",
       "      <td>183109.000000</td>\n",
       "      <td>2016.000000</td>\n",
       "    </tr>\n",
       "  </tbody>\n",
       "</table>\n",
       "</div>"
      ],
      "text/plain": [
       "                 DOM   buildingType  communityAverage  constructionTime\n",
       "count  160874.000000  316830.000000     318388.000000     299568.000000\n",
       "mean       28.822339       3.009790      63682.446305       1999.002517\n",
       "std        50.237343       1.269857      22329.215447         22.443793\n",
       "min         1.000000       0.048000      10847.000000          0.000000\n",
       "25%         1.000000       1.000000      46339.000000       1994.000000\n",
       "50%         6.000000       4.000000      59015.000000       2001.000000\n",
       "75%        37.000000       4.000000      75950.000000       2006.000000\n",
       "max      1677.000000       4.000000     183109.000000       2016.000000"
      ]
     },
     "execution_count": 18,
     "metadata": {},
     "output_type": "execute_result"
    }
   ],
   "source": [
    "data[['DOM','buildingType', 'communityAverage', 'constructionTime']].describe() "
   ]
  },
  {
   "cell_type": "code",
   "execution_count": 19,
   "id": "26ecea42",
   "metadata": {},
   "outputs": [
    {
     "data": {
      "image/png": "[encoded data removed]",
      "text/plain": [
       "<Figure size 2000x200 with 2 Axes>"
      ]
     },
     "metadata": {},
     "output_type": "display_data"
    }
   ],
   "source": [
    "fix, (ax1, ax2) = plt.subplots(1, 2, figsize=(20, 2))\n",
    "\n",
    "data['communityAverage'].hist(ax=ax1)\n",
    "plt.xlabel('Community Average')\n",
    "plt.ylabel('Distribution')\n",
    "\n",
    "data['communityAverage'].fillna(data['communityAverage'].mean(), inplace=True)\n",
    "\n",
    "data['communityAverage'].hist(ax=ax2)\n",
    "\n",
    "plt.show()\n"
   ]
  },
  {
   "cell_type": "markdown",
   "id": "77df7497",
   "metadata": {},
   "source": [
    "Using the median of the existing values in the buildingType,communityAverage column to replace missing values"
   ]
  },
  {
   "cell_type": "code",
   "execution_count": 21,
   "id": "d7b53569",
   "metadata": {},
   "outputs": [],
   "source": [
    "data['DOM'].fillna(data['DOM'].mode()[0], inplace=True)\n",
    "data['buildingType'].fillna(data['buildingType'].mode()[0], inplace=True)\n",
    "data['communityAverage'].fillna(data['communityAverage'].mean(), inplace=True)\n",
    "data['constructionTime'].fillna(data['constructionTime'].mean(), inplace=True)"
   ]
  },
  {
   "cell_type": "markdown",
   "id": "dbb7f901",
   "metadata": {},
   "source": [
    "Identifying which columns have missing values"
   ]
  },
  {
   "cell_type": "code",
   "execution_count": null,
   "id": "ebd3ef9f",
   "metadata": {},
   "outputs": [],
   "source": [
    "data.isnull().sum()"
   ]
  },
  {
   "cell_type": "markdown",
   "id": "d7d610c9",
   "metadata": {},
   "source": [
    "## Data standardization"
   ]
  },
  {
   "cell_type": "code",
   "execution_count": null,
   "id": "80391ffb",
   "metadata": {},
   "outputs": [],
   "source": [
    "from sklearn import preprocessing\n",
    "\n",
    "X = data.drop('price', axis=1)\n",
    "y = data['price']\n",
    "\n",
    "X_scaled = preprocessing.scale(X)"
   ]
  },
  {
   "cell_type": "code",
   "execution_count": null,
   "id": "32d25bef",
   "metadata": {},
   "outputs": [],
   "source": [
    "X_df = pd.DataFrame(X_scaled, columns=X.columns)"
   ]
  },
  {
   "cell_type": "markdown",
   "id": "a5841811",
   "metadata": {},
   "source": [
    "# Model Linear Regression"
   ]
  },
  {
   "cell_type": "code",
   "execution_count": null,
   "id": "b659e6ed",
   "metadata": {},
   "outputs": [],
   "source": [
    "import numpy as np\n",
    "from sklearn.model_selection import train_test_split, cross_val_score\n",
    "from sklearn.linear_model import LinearRegression\n",
    "from sklearn.ensemble import RandomForestRegressor"
   ]
  },
  {
   "cell_type": "code",
   "execution_count": null,
   "id": "43421878",
   "metadata": {},
   "outputs": [],
   "source": [
    "test_sizes = [0.2, 0.25, 0.3]\n",
    "linear_scores = []"
   ]
  },
  {
   "cell_type": "code",
   "execution_count": null,
   "id": "f0421297",
   "metadata": {},
   "outputs": [],
   "source": [
    "for test_size in test_sizes:\n",
    "    X_train, X_test, y_train, y_test = train_test_split(X_df, y, test_size=test_size, random_state=42)\n",
    "    \n",
    "    lm = LinearRegression()\n",
    "    scores = cross_val_score(lm, X_train, y_train, cv=5, scoring=\"r2\")\n",
    "    \n",
    "    linear_scores.append(scores)"
   ]
  },
  {
   "cell_type": "code",
   "execution_count": null,
   "id": "e8cb18a9",
   "metadata": {},
   "outputs": [],
   "source": [
    "for i, size in enumerate(test_sizes):\n",
    "    print(f\"R2 score for LR on {size}: {np.mean(linear_scores[i])}\")"
   ]
  },
  {
   "cell_type": "markdown",
   "id": "b3f66288",
   "metadata": {},
   "source": [
    "# Random Forest"
   ]
  },
  {
   "cell_type": "code",
   "execution_count": null,
   "id": "7816141d",
   "metadata": {},
   "outputs": [],
   "source": [
    "rf_scores = []"
   ]
  },
  {
   "cell_type": "code",
   "execution_count": null,
   "id": "d371fc3f",
   "metadata": {},
   "outputs": [],
   "source": [
    "for test_size in test_sizes:\n",
    "    X_train, X_test, y_train, y_test = train_test_split(X_df, y, test_size=test_size, random_state=42)\n",
    "    \n",
    "    rf = RandomForestRegressor(n_estimators=100)\n",
    "\n",
    "    scores = cross_val_score(rf, X_train, y_train, cv=5, scoring=\"r2\")\n",
    "\n",
    "    rf_scores.append(scores)"
   ]
  },
  {
   "cell_type": "code",
   "execution_count": null,
   "id": "9b460669",
   "metadata": {},
   "outputs": [],
   "source": [
    "for i, size in enumerate(test_sizes):\n",
    "    print(f\"R2 score for {size} on {np.mean(rf_scores[i])}\")"
   ]
  },
  {
   "cell_type": "markdown",
   "id": "511c7949",
   "metadata": {},
   "source": [
    "## Hyperparameters"
   ]
  },
  {
   "cell_type": "code",
   "execution_count": null,
   "id": "d757db0f",
   "metadata": {},
   "outputs": [],
   "source": [
    "from sklearn.model_selection import GridSearchCV"
   ]
  },
  {
   "cell_type": "markdown",
   "id": "41a54542",
   "metadata": {},
   "source": [
    "### Hyperparameter tuning"
   ]
  },
  {
   "cell_type": "markdown",
   "id": "5659400f",
   "metadata": {},
   "source": [
    "Linear Regretion"
   ]
  },
  {
   "cell_type": "code",
   "execution_count": null,
   "id": "3865984f",
   "metadata": {},
   "outputs": [],
   "source": [
    "X_train_linear, X_test_linear, y_train_linear, y_test_linear = train_test_split(X, y, test_size=0.3, random_state=42)\n",
    "\n",
    "param_grid = {'n_jobs': [50, 100, 150]}\n",
    "    \n",
    "lm = LinearRegression()\n",
    "\n",
    "gs = GridSearchCV(lm, param_grid=param_grid, cv=5)\n",
    "\n",
    "gs.fit(X_train, y_train)\n",
    "\n",
    "lm_best_params = gs.best_params_\n",
    "lm_best_score = gs.best_score_\n",
    "\n",
    "print(\"Best params for LR: \", lm_best_params)\n",
    "print(\"Best score: \", lm_best_score)"
   ]
  },
  {
   "cell_type": "markdown",
   "id": "82ad2344",
   "metadata": {},
   "source": [
    "Random Forest"
   ]
  },
  {
   "cell_type": "code",
   "execution_count": null,
   "id": "e54e1482",
   "metadata": {},
   "outputs": [],
   "source": [
    "rf = RandomForestRegressor(random_state=42)\n",
    "\n",
    "param_grid = {\n",
    "    'n_estimators': [100, 200, 300],\n",
    "    'max_depth': [None, 5, 10],\n",
    "    'min_samples_split': [2, 5, 10],\n",
    "    'min_samples_leaf': [1, 2, 4],\n",
    "    'max_features': ['auto', 'sqrt', 'log2']\n",
    "}\n",
    "\n",
    "gs = GridSearchCV(rf, param_grid=param_grid, cv=5, scoring='r2')\n",
    "\n",
    "gs.fit(X_train, y_train)\n",
    "\n",
    "rf_best_params = gs.best_params_\n",
    "rf_best_score = gs.best_score_\n",
    "\n",
    "print(f\"Best params for RF: {rf_best_params}\")\n",
    "print(f\"Best score: {rf_best_score}\")"
   ]
  },
  {
   "cell_type": "markdown",
   "id": "7c5cac64",
   "metadata": {},
   "source": [
    "# Graphics"
   ]
  },
  {
   "cell_type": "markdown",
   "id": "da5aec65",
   "metadata": {},
   "source": [
    "Testing our modes withing the best split and best hyperparameters"
   ]
  },
  {
   "cell_type": "code",
   "execution_count": null,
   "id": "e7c10f6e",
   "metadata": {},
   "outputs": [],
   "source": [
    "# getting the testing score of both models"
   ]
  },
  {
   "cell_type": "markdown",
   "id": "cd0261c0",
   "metadata": {},
   "source": [
    "Plotting the TP, FP, TN, FN with a confussion matrix and heat map"
   ]
  },
  {
   "cell_type": "code",
   "execution_count": null,
   "id": "d46d2eaa",
   "metadata": {},
   "outputs": [],
   "source": [
    "# compare test labels and predited labels"
   ]
  }
 ],
 "metadata": {
  "kernelspec": {
   "display_name": "Python 3 (ipykernel)",
   "language": "python",
   "name": "python3"
  },
  "language_info": {
   "codemirror_mode": {
    "name": "ipython",
    "version": 3
   },
   "file_extension": ".py",
   "mimetype": "text/x-python",
   "name": "python",
   "nbconvert_exporter": "python",
   "pygments_lexer": "ipython3",
   "version": "3.11.7"
  }
 },
 "nbformat": 4,
 "nbformat_minor": 5
}
